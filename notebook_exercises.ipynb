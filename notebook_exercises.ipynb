{
  "cells": [
    {
      "cell_type": "markdown",
      "metadata": {
        "id": "view-in-github",
        "colab_type": "text"
      },
      "source": [
        "<a href=\"https://colab.research.google.com/github/julia-sand/data-stuff/blob/main/notebook_exercises.ipynb\" target=\"_parent\"><img src=\"https://colab.research.google.com/assets/colab-badge.svg\" alt=\"Open In Colab\"/></a>"
      ]
    },
    {
      "cell_type": "markdown",
      "metadata": {
        "id": "wCZUHVKu63EQ"
      },
      "source": [
        "## Jupyter Notebook example\n",
        "\n",
        "Follow instructions and fill in where required. Do not modify anything else than what you are asked to."
      ]
    },
    {
      "cell_type": "markdown",
      "metadata": {
        "id": "fSjaqeV463ES"
      },
      "source": [
        "## Table of Contents\n",
        "\n",
        "* [1. Shell commands and line magics](#shellmagic)\n",
        "* [2. Latex for formulas](#latex)\n",
        "* [3. Interactive widget](#interactive)\n",
        "* [4. Git](#git)"
      ]
    },
    {
      "cell_type": "markdown",
      "metadata": {
        "id": "P5rsiLMQ63ET"
      },
      "source": [
        "### 1. Shell commands and line magics <a class=\"anchor\" id=\"shellmagic\"></a>\n",
        "\n",
        "1.1. In code cell below, run a shell command to print your working directory.\n",
        "\n",
        "1.2. Using a line magic create an alias called \"hello\" for command \"echo \"¡Hola mundo!\"\" and test it. Your answer should contain one line for creating alias and one line for using the alias."
      ]
    },
    {
      "cell_type": "code",
      "execution_count": 6,
      "metadata": {
        "colab": {
          "base_uri": "https://localhost:8080/"
        },
        "id": "VVm_aKxo63ET",
        "outputId": "b5138aeb-0836-4d3c-cab5-02d18087b0a5"
      },
      "outputs": [
        {
          "output_type": "stream",
          "name": "stdout",
          "text": [
            "/content\n"
          ]
        }
      ],
      "source": [
        "# Exercise 1.1. here:\n",
        "! pwd"
      ]
    },
    {
      "cell_type": "code",
      "source": [
        "# Exercise 1.2. here:\n",
        "%alias hello echo  \"¡Hola mundo!\""
      ],
      "metadata": {
        "id": "qvVwWSzC7lXB"
      },
      "execution_count": 9,
      "outputs": []
    },
    {
      "cell_type": "code",
      "source": [
        "hello"
      ],
      "metadata": {
        "colab": {
          "base_uri": "https://localhost:8080/"
        },
        "id": "_iuEK_bF7rx3",
        "outputId": "5466b5e5-e3ec-4b92-9224-3bd8630eba6e"
      },
      "execution_count": 10,
      "outputs": [
        {
          "output_type": "stream",
          "name": "stdout",
          "text": [
            "¡Hola mundo!\n"
          ]
        }
      ]
    },
    {
      "cell_type": "markdown",
      "metadata": {
        "id": "SvyITD1E63EU"
      },
      "source": [
        "### 2. Markdown text <a class=\"anchor\" id=\"latex\"></a>\n",
        "\n",
        "Different kind of text can be added into markdown cells. [Here](https://jupyter-notebook.readthedocs.io/en/stable/examples/Notebook/Working%20With%20Markdown%20Cells.html) is a good source into Markdown basics.\n",
        "\n",
        "2.1. In markdown cell below display Pythagorean theorem using LaTex syntax.\n",
        "\n",
        "2.2. Display a Python function called \"hello\" that returns \"Hallo Welt!\". Use Github flavored markdown. (You may use some other programming language here if you wish)"
      ]
    },
    {
      "cell_type": "markdown",
      "metadata": {
        "id": "-oY7jbxj63EU"
      },
      "source": [
        "2.1. **Pythagoras' Theorem**\n",
        "Let $a, \\, b$ and $c$ be the lengths of the edges of a triangle, such that the angle between edges $a$ and $b$ is a right angle. Then it holds that\n",
        "\n",
        "\\begin{align}\n",
        "c &= \\sqrt{a^2 + b^2}\n",
        "\\end{align}\n",
        "\n",
        "\n",
        "2.2.\n",
        "\n",
        "```python\n",
        "def hello():\n",
        "   print('Hallo Welt!')\n",
        "```\n"
      ]
    },
    {
      "cell_type": "markdown",
      "metadata": {
        "id": "8imq20kx63EV"
      },
      "source": [
        "### 3. Interactive widget <a class=\"anchor\" id=\"interactive\"></a>\n",
        "\n",
        "In the program below we want to investigate a set of movie reviews and see what are the most frequent words there. We are not interested in seeing punctuation marks or the clearly most common words referred as stopwords.\n",
        "\n",
        "3.1. Run the code and investigate the output. In the marked codeline there is something wrong that causes wrong output. Can you figure out what to add to display correct words?\n",
        "\n",
        "3.2. Use the @interact decorator at the end of the program to range displaying 5 to 10 most frequent words. You can see an example of the usage of the decorator [here](https://coderefinery.github.io/jupyter/examples/#widgets-for-interactive-data-fitting)"
      ]
    },
    {
      "cell_type": "code",
      "execution_count": 43,
      "metadata": {
        "colab": {
          "base_uri": "https://localhost:8080/"
        },
        "id": "4FyyJjtG63EV",
        "outputId": "d74a2878-94a9-4c75-dd0d-f827a58a8abd"
      },
      "outputs": [
        {
          "name": "stdout",
          "output_type": "stream",
          "text": [
            "NLTK Downloader\n",
            "---------------------------------------------------------------------------\n",
            "    d) Download   l) List    u) Update   c) Config   h) Help   q) Quit\n",
            "---------------------------------------------------------------------------\n",
            "Downloader> d\n",
            "\n",
            "Download which package (l=list; x=cancel)?\n",
            "  Identifier> movie_reviews\n"
          ]
        },
        {
          "output_type": "stream",
          "name": "stderr",
          "text": [
            "    Downloading package movie_reviews to /root/nltk_data...\n",
            "      Package movie_reviews is already up-to-date!\n"
          ]
        },
        {
          "name": "stdout",
          "output_type": "stream",
          "text": [
            "\n",
            "---------------------------------------------------------------------------\n",
            "    d) Download   l) List    u) Update   c) Config   h) Help   q) Quit\n",
            "---------------------------------------------------------------------------\n",
            "Downloader> d\n",
            "\n",
            "Download which package (l=list; x=cancel)?\n",
            "  Identifier> stopwords\n"
          ]
        },
        {
          "output_type": "stream",
          "name": "stderr",
          "text": [
            "    Downloading package stopwords to /root/nltk_data...\n",
            "      Package stopwords is already up-to-date!\n"
          ]
        },
        {
          "name": "stdout",
          "output_type": "stream",
          "text": [
            "\n",
            "---------------------------------------------------------------------------\n",
            "    d) Download   l) List    u) Update   c) Config   h) Help   q) Quit\n",
            "---------------------------------------------------------------------------\n",
            "Downloader> q\n"
          ]
        },
        {
          "output_type": "execute_result",
          "data": {
            "text/plain": [
              "True"
            ]
          },
          "metadata": {},
          "execution_count": 43
        }
      ],
      "source": [
        "# Notice!:\n",
        "# For ModuleNotFoundError: No module named 'nltk' you need to pip install nltk to your environment\n",
        "# For ModuleNotFoundError: No module named 'ipywidgets' you need to pip install ipywidgets to your environment\n",
        "# To install nltk data sets movie_reviews and stopwords you need to install the data sets with nltk.download.\n",
        "# See examples: https://www.nltk.org/data.html\n",
        "# Do that here:\n",
        "\n",
        "import nltk\n",
        "nltk.download()"
      ]
    },
    {
      "cell_type": "code",
      "execution_count": 28,
      "metadata": {
        "colab": {
          "base_uri": "https://localhost:8080/",
          "height": 478
        },
        "id": "Dl-8Dw7_63EW",
        "outputId": "13532234-96ec-42cb-c9b7-ce63231bf024"
      },
      "outputs": [
        {
          "output_type": "display_data",
          "data": {
            "text/plain": [
              "<Figure size 640x480 with 1 Axes>"
            ],
            "image/png": "[encoded data removed]"
          },
          "metadata": {}
        }
      ],
      "source": [
        "from nltk import FreqDist\n",
        "from nltk import RegexpTokenizer\n",
        "from nltk.corpus import movie_reviews\n",
        "from nltk.corpus import stopwords\n",
        "from ipywidgets import interact\n",
        "import matplotlib.pyplot as plt\n",
        "\n",
        "\n",
        "tokenizer = RegexpTokenizer(r\"\\w+\")\n",
        "word_tokens = tokenizer.tokenize(movie_reviews.raw())\n",
        "\n",
        "stop_words = set(stopwords.words('english'))\n",
        "\n",
        "# Exercise 3.1. below:\n",
        "#this code line is incorrect: we do not want to include the stop words\n",
        "#filtered_words = [w for w in word_tokens if w in stop_words]\n",
        "\n",
        "#fixed version: added \"not\"\n",
        "filtered_words = [w for w in word_tokens if not(w in stop_words)]\n",
        "fd = FreqDist(filtered_words)\n",
        "fd.plot(5)\n",
        "plt.show()"
      ]
    },
    {
      "cell_type": "code",
      "source": [
        "\n",
        "import ipywidgets as widgets\n",
        "\n",
        "# Exercise 3.2. here:\n",
        "@interact\n",
        "def slider(n = widgets.IntSlider(min=3, max=20, step=1, value=10)):\n",
        "  fd.plot(n)\n",
        "\n"
      ],
      "metadata": {
        "colab": {
          "base_uri": "https://localhost:8080/",
          "height": 541,
          "referenced_widgets": [
            "f938c1e13a434425aa063bd2952056fc",
            "e7240edcdeb84382a7823e0127880e6b",
            "152b85d914de4b0b99abce59c7e23b4e",
            "cf8dc944e2cf419fbcdcdf2f37c8e007",
            "da904537533d44c0a3e8b89b7c1fb429",
            "0d263b69079e49dd8136157649b7dcf1",
            "8fd07d20ba8d4d4781a51a2d4ce4e49f"
          ]
        },
        "id": "vUJH6jSg_9b2",
        "outputId": "acc37917-dc7c-4f61-ac36-a8c70af3d3f2"
      },
      "execution_count": 42,
      "outputs": [
        {
          "output_type": "display_data",
          "data": {
            "text/plain": [
              "interactive(children=(IntSlider(value=10, description='n', max=20, min=3), Output()), _dom_classes=('widget-in…"
            ],
            "application/vnd.jupyter.widget-view+json": {
              "version_major": 2,
              "version_minor": 0,
              "model_id": "f938c1e13a434425aa063bd2952056fc"
            }
          },
          "metadata": {}
        }
      ]
    },
    {
      "cell_type": "markdown",
      "metadata": {
        "id": "p7-ryZxt63EX"
      },
      "source": [
        "### 4. Git <a class=\"anchor\" id=\"git\"></a>\n",
        "\n",
        "Follow [these](https://coderefinery.github.io/jupyter/version-control/) instructions to save this notebook and create a repository for it. After you have done this, paste the repository url in the cell below. Please make your repository public on Github so that your reviewer is able to assess this exercise."
      ]
    },
    {
      "cell_type": "code",
      "execution_count": 46,
      "metadata": {
        "id": "vzYR_Wfj63EY"
      },
      "outputs": [],
      "source": [
        "# Paste your repository url here:\n",
        "https://github.com/julia-sand/data-stuff/tree/main"
      ]
    }
  ],
  "metadata": {
    "kernelspec": {
      "display_name": "Python 3",
      "language": "python",
      "name": "python3"
    },
    "language_info": {
      "codemirror_mode": {
        "name": "ipython",
        "version": 3
      },
      "file_extension": ".py",
      "mimetype": "text/x-python",
      "name": "python",
      "nbconvert_exporter": "python",
      "pygments_lexer": "ipython3",
      "version": "3.8.10"
    },
    "colab": {
      "provenance": [],
      "include_colab_link": true
    },
    "widgets": {
      "application/vnd.jupyter.widget-state+json": {
        "f938c1e13a434425aa063bd2952056fc": {
          "model_module": "@jupyter-widgets/controls",
          "model_name": "VBoxModel",
          "model_module_version": "1.5.0",
          "state": {
            "_dom_classes": [
              "widget-interact"
            ],
            "_model_module": "@jupyter-widgets/controls",
            "_model_module_version": "1.5.0",
            "_model_name": "VBoxModel",
            "_view_count": null,
            "_view_module": "@jupyter-widgets/controls",
            "_view_module_version": "1.5.0",
            "_view_name": "VBoxView",
            "box_style": "",
            "children": [
              "IPY_MODEL_e7240edcdeb84382a7823e0127880e6b",
              "IPY_MODEL_152b85d914de4b0b99abce59c7e23b4e"
            ],
            "layout": "IPY_MODEL_cf8dc944e2cf419fbcdcdf2f37c8e007"
          }
        },
        "e7240edcdeb84382a7823e0127880e6b": {
          "model_module": "@jupyter-widgets/controls",
          "model_name": "IntSliderModel",
          "model_module_version": "1.5.0",
          "state": {
            "_dom_classes": [],
            "_model_module": "@jupyter-widgets/controls",
            "_model_module_version": "1.5.0",
            "_model_name": "IntSliderModel",
            "_view_count": null,
            "_view_module": "@jupyter-widgets/controls",
            "_view_module_version": "1.5.0",
            "_view_name": "IntSliderView",
            "continuous_update": true,
            "description": "n",
            "description_tooltip": null,
            "disabled": false,
            "layout": "IPY_MODEL_da904537533d44c0a3e8b89b7c1fb429",
            "max": 20,
            "min": 3,
            "orientation": "horizontal",
            "readout": true,
            "readout_format": "d",
            "step": 1,
            "style": "IPY_MODEL_0d263b69079e49dd8136157649b7dcf1",
            "value": 20
          }
        },
        "152b85d914de4b0b99abce59c7e23b4e": {
          "model_module": "@jupyter-widgets/output",
          "model_name": "OutputModel",
          "model_module_version": "1.0.0",
          "state": {
            "_dom_classes": [],
            "_model_module": "@jupyter-widgets/output",
            "_model_module_version": "1.0.0",
            "_model_name": "OutputModel",
            "_view_count": null,
            "_view_module": "@jupyter-widgets/output",
            "_view_module_version": "1.0.0",
            "_view_name": "OutputView",
            "layout": "IPY_MODEL_8fd07d20ba8d4d4781a51a2d4ce4e49f",
            "msg_id": "",
            "outputs": [
              {
                "output_type": "display_data",
                "data": {
                  "text/plain": "<Figure size 640x480 with 1 Axes>",
                  "image/png": "iVBORw0KGgoAAAANSUhEUgAAAkQAAAHsCAYAAAAzR7JEAAAAOnRFWHRTb2Z0d2FyZQBNYXRwbG90bGliIHZlcnNpb24zLjEwLjAsIGh0dHBzOi8vbWF0cGxvdGxpYi5vcmcvlHJYcgAAAAlwSFlzAAAPYQAAD2EBqD+naQAAhAhJREFUeJzt3Xdc1fX3B/DXvVzgwmUPGYoC4gD3SMGVK9GoLK1+litzZGGm9tWyzByVabmzbDpKc1VWaioOVBBRce+F4gIEZMuFe+/79wfeGzdwwL2Xy4XX8/G4D+79fD6cey7z3PeUCCEEiIiIiGowqbkTICIiIjI3FkRERERU47EgIiIiohqPBRERERHVeCyIiIiIqMZjQUREREQ1HgsiIiIiqvFk5k7AEmg0Gty6dQuOjo6QSCTmToeIiIgegxACOTk58PX1hVT68DYgFkSP4datW/Dz8zN3GkRERFQB169fR506dR56DQuix+Do6Aig+Avq5ORk1NgqlQoHDhxAaGgoZDLjfztMGd+Sc7f0+Jacu6XHt+TcTR3fknO39PiWnLsp42dnZ8PPz0/3f/xhWBA9Bm03mZOTk0kKIoVCAScnJ5P9kJkqviXnbunxLTl3S49vybmbOr4l527p8S0598qI/zjDXTiomoiIiGo8FkRERERU47EgIiIiohqPBRERERHVeCyIiIiIqMZjQUREREQ1HgsiIiIiqvFYEBEREVGNx4KIiIiIajwWRERERFTjsSAiIiKiGo8FEREREdV4LIjMKDmrALvP38HWxEKk5xWaOx0iIqIai7vdm9FPsYn4bu8VAED47Wx4OdubOSMiIqKaiS1EZhToodDdv5KWZ8ZMiIiIajYWRGYU6Omgu5+Ylm/GTIiIiGo2FkRmFOhZooXoDluIiIiIzIUFkRm5K2zgKC8expXILjMiIiKzYUFkRhKJRDeO6FZWAQqK1GbOiIiIqGZiQWRmASUGVrOViIiIyDxYEJlZoMe/U+05joiIiMg8WBCZWckWoit3cs2YCRERUc3FgsjMuBYRERGR+bEgMrN67vaQ3L/PFiIiIiLzYEFkZnJrK7jbFZdEV9LyIIQwc0ZEREQ1DwuiKsBbUfxtyClQIS2Xm7wSERFVNhZEVYCP4t9vA7vNiIiIKh8LoirAWyHR3efAaiIiosrHgqgKYAsRERGRebEgqgK89QoithARERFVNhZEVYCrXAI7aysA7DIjIiIyBxZEVYBUIoG/e/EWHkkZ+ShSa8ycERERUc1i1oIoJycH48aNQ7169WBnZ4cOHTrg0KFDuvNCCEydOhU+Pj6ws7NDz549cfHiRb0YGRkZGDhwIJycnODi4oLhw4cjN1d/HM6JEyfQuXNnyOVy+Pn5Yc6cOZXy+spDu4WHWiOQlJFv5myIiIhqFrMWRCNGjEBUVBR+/vlnnDx5Er169ULPnj1x8+ZNAMCcOXOwaNEiLF26FPHx8VAoFAgPD0dBQYEuxsCBA3H69GlERUVh06ZN2Lt3L0aNGqU7n52djV69eqFevXpISEjAF198gWnTpuG7776r9Nf7MNzklYiIyHzMVhDdu3cPv/32G+bMmYMuXbogKCgI06ZNQ1BQEL755hsIIbBgwQJMmTIFffv2RfPmzbFy5UrcunULGzduBACcPXsWW7duxQ8//ID27dujU6dOWLx4MdasWYNbt24BAFatWoXCwkL89NNPaNKkCQYMGICxY8di3rx55nrpZeImr0REROYjM9cTq1QqqNVqyOVyveN2dnaIiYlBYmIikpOT0bNnT905Z2dntG/fHnFxcRgwYADi4uLg4uKCtm3b6q7p2bMnpFIp4uPj8cILLyAuLg5dunSBjY2N7prw8HDMnj0bd+/ehaura6nclEollEql7nF2drYuZ5VKZbSvgTYmANR1/ffrcCk1x2jPo41j7LxNHZvxzReb8c0X29LjW3Lulh7fknM3ZfzyxDNbQeTo6IiwsDDMnDkTwcHB8PLywq+//oq4uDgEBQUhOTkZAODl5aX3eV5eXrpzycnJqFWrlt55mUwGNzc3vWsCAgJKxdCeK6sgmjVrFqZPn17q+IEDB6BQKEodN4b0xDO6+8ev3EZsbJZR48fHxxs1XmXFZnzzxWZ888W29PiWnLulx7fk3E0RPy/v8YegmK0gAoCff/4Zr7/+OmrXrg0rKyu0bt0ar7zyChISEsyZFiZPnowJEyboHmdnZ8PPzw+hoaFwcnIy6nOpVCrEx8eja6dQ1IqPQWqOEmmFMnTs2NGo8du3bw+ZzLjfblPGZnzzxWZ888W29PiWnLulx7fk3E0ZX9vD8zjMWhDVr18fe/bsQV5eHrKzs+Hj44P/+7//Q2BgILy9vQEAKSkp8PHx0X1OSkoKWrZsCQDw9vZGamqqXkyVSoWMjAzd53t7eyMlJUXvGu1j7TX/ZWtrC1tb21LHZTKZSX4QtLEDPBRIzVEiI68QeYUCzvbWRo1vytxNFZvxzReb8c0X29LjW3Lulh7fknM3RfzyxKoS6xApFAr4+Pjg7t272LZtG/r27YuAgAB4e3tj586duuuys7MRHx+PsLAwAEBYWBgyMzP1WpR27doFjUaD9u3b667Zu3cvioqKdNdERUWhUaNGZXaXmVOgp4Pu/pU0DqwmIiKqLGYtiLZt24atW7ciMTERUVFR6NatGxo3boxhw4ZBIpFg3Lhx+OSTT/DXX3/h5MmTGDJkCHx9ffH8888DAIKDg9G7d2+MHDkSBw8eRGxsLMaMGYMBAwbA19cXAPDqq6/CxsYGw4cPx+nTp7F27VosXLhQr0usqqjvWXKmGafeExERVRazdpllZWVh8uTJuHHjBtzc3NC/f398+umnsLYu7iqaNGkS8vLyMGrUKGRmZqJTp07YunWr3sy0VatWYcyYMejRowekUin69++PRYsW6c47Oztj+/btiIyMRJs2beDh4YGpU6fqrVVUVQSWLIjYQkRERFRpzFoQvfzyy3j55ZcfeF4ikWDGjBmYMWPGA69xc3PD6tWrH/o8zZs3x759+yqcZ2UJ9CjRZcYWIiIiokpTJcYQUbE6rnawtpIAYEFERERUmVgQVSEyKynquRd3myWm50GjEWbOiIiIqGZgQVTFaLfwKFRpcDPznpmzISIiqhlYEFUx+gOr2W1GRERUGVgQVTH19QZWc6YZERFRZWBBVMUEci0iIiKiSseCqIrhatVERESVjwVRFeOmsIHL/T3M2EJERERUOVgQVUHamWa3swqQX6gyczZERETVHwuiKqjkitWJnGlGRERkciyIqiAOrCYiIqpcLIiqIO56T0REVLlYEFVBnGlGRERUuVgQVUH13O0hLd7jlS1ERERElYAFURVkK7NCHVd7AMWrVQvBTV6JiIhMiQVRFaWdep9XqMadHKWZsyEiIqreWBBVUSVnml1mtxkREZFJsSCqojiwmoiIqPKwIKqi6ntw6j0REVFlYUFURem1EN1hCxEREZEpsSCqorycbKGwsQIAXOH2HURERCbFgqiKkkgkCLg/sPp6Rj4KVRozZ0RERFR9sSCqwgLub/KqEUBSBluJiIiITIUFURUW6MGp90RERJWBBVEVxl3viYiIKgcLoiqsPmeaERERVQoWRFVYQMm1iDjTjIiIyGRYEFVhClsZvJ3kANhCREREZEosiKo47Tiiu/lFuJtXaOZsiIiIqicWRFUcu82IiIhMjwVRFcctPIiIiEyPBVEVpzf1ni1EREREJmHWgkitVuOjjz5CQEAA7OzsUL9+fcycORNCCN01QghMnToVPj4+sLOzQ8+ePXHx4kW9OBkZGRg4cCCcnJzg4uKC4cOHIzdXvzXlxIkT6Ny5M+RyOfz8/DBnzpxKeY2Gqu/BFiIiIiJTM2tBNHv2bHzzzTf46quvcPbsWcyePRtz5szB4sWLddfMmTMHixYtwtKlSxEfHw+FQoHw8HAUFBTorhk4cCBOnz6NqKgobNq0CXv37sWoUaN057Ozs9GrVy/Uq1cPCQkJ+OKLLzBt2jR89913lfp6K6K2qx1sZMXfJi7OSEREZBoycz75/v370bdvX0RERAAA/P398euvv+LgwYMAiluHFixYgClTpqBv374AgJUrV8LLywsbN27EgAEDcPbsWWzduhWHDh1C27ZtAQCLFy/G008/jS+//BK+vr5YtWoVCgsL8dNPP8HGxgZNmjTBsWPHMG/ePL3CqSqykkrg726PCym5uJaeD7VGwEoqMXdaRERE1YpZC6IOHTrgu+++w4ULF9CwYUMcP34cMTExmDdvHgAgMTERycnJ6Nmzp+5znJ2d0b59e8TFxWHAgAGIi4uDi4uLrhgCgJ49e0IqlSI+Ph4vvPAC4uLi0KVLF9jY2OiuCQ8Px+zZs3H37l24urrq5aVUKqFUKnWPs7OzAQAqlQoqlcqoXwNtvIfFDbhfEBWqNbiWloO6bvZGjV9RpozN+OaLzfjmi23p8S05d0uPb8m5mzJ+eeKZtSB6//33kZ2djcaNG8PKygpqtRqffvopBg4cCABITk4GAHh5eel9npeXl+5ccnIyatWqpXdeJpPBzc1N75qAgIBSMbTn/lsQzZo1C9OnTy+V74EDB6BQKEodN4b4+PgHnpMV/Fucbdp7CC08y/9te1h8Q5kyNuObLzbjmy+2pce35NwtPb4l526K+Hl5jz/UxKwF0bp167Bq1SqsXr1a1401btw4+Pr6YujQoWbLa/LkyZgwYYLucXZ2Nvz8/BAaGgonJyejPpdKpUJ8fDzat28Pmazsb0ey3U1svnIKAGBXqx46dvA3avyKMmVsxjdfbMY3X2xLj2/JuVt6fEvO3ZTxtT08j8OsBdHEiRPx/vvvY8CAAQCAZs2a4dq1a5g1axaGDh0Kb29vAEBKSgp8fHx0n5eSkoKWLVsCALy9vZGamqoXV6VSISMjQ/f53t7eSElJ0btG+1h7TUm2trawtbUtdVwmk5nkB+FRsYO8/i3Crqbfq1AO5sqd8fm1r67xLTl3U8e35NwtPb4l526K+OWJZdZZZvn5+ZBK9VOwsrKCRqMBAAQEBMDb2xs7d+7Unc/OzkZ8fDzCwsIAAGFhYcjMzERCQoLuml27dkGj0aB9+/a6a/bu3YuioiLdNVFRUWjUqFGp7rKqqH7JtYg404yIiMjozFoQPfvss/j000+xefNmXL16FX/88QfmzZuHF154AQAgkUgwbtw4fPLJJ/jrr79w8uRJDBkyBL6+vnj++ecBAMHBwejduzdGjhyJgwcPIjY2FmPGjMGAAQPg6+sLAHj11VdhY2OD4cOH4/Tp01i7di0WLlyo1y1WlbnY28BNUTwg/Eoa1yIiIiIyNrN2mS1evBgfffQR3nrrLaSmpsLX1xdvvPEGpk6dqrtm0qRJyMvLw6hRo5CZmYlOnTph69atkMvlumtWrVqFMWPGoEePHpBKpejfvz8WLVqkO+/s7Izt27cjMjISbdq0gYeHB6ZOnVrlp9yXFOihQEZeIVKylchVquBga9ZvHRERUbVi1v+qjo6OWLBgARYsWPDAayQSCWbMmIEZM2Y88Bo3NzesXr36oc/VvHlz7Nu3r6Kpml2gpwKHr90FAFxNy0PT2s5mzoiIiKj64F5mFiKgxBYel7mFBxERkVGxILIQgRxYTUREZDIsiCxEfe56T0REZDIsiCxEXTeFbg8z7npPRERkXCyILISNTAo/VzsAQGJaHoQQZs6IiIio+mBBZEECPYsHVucXqpGSrXzE1URERPS4WBBZkACPkgOr2W1GRERkLCyILEjJmWaXObCaiIjIaFgQWZDAEmsRsYWIiIjIeFgQWRBu8kpERGQaLIgsiKejrW4PM27ySkREZDwsiCyIRCLRjSO6cfceCorUZs6IiIioemBBZGEC7880EwJIysg3czZERETVAwsiCxPAgdVERERGx4LIwuhNvefAaiIiIqNgQWRhuOs9ERGR8bEgsjB6q1VzphkREZFRsCCyMPY2Mvg6ywEUtxBxk1ciIiLDsSCyQNpNXrPuFSEjr9DM2RAREVk+FkQWqOQ4okTuaUZERGQwFkQWSH/XexZEREREhmJBZIG0XWYAcJkDq4mIiAzGgsgCBbKFiIiIyKhYEFmg2i52sJUVf+u4WjUREZHhWBBZIKlUohtHlJSRD5VaY+aMiIiILBsLIgulnWlWpBa4cfeembMhIiKybCyILFRgyU1eObCaiIjIICyILBSn3hMRERkPCyILxV3viYiIjIcFkYUquRYRZ5oREREZhgWRhXK2s4aHgw0A4Aq37yAiIjIICyILph1YfSdHiZyCIjNnQ0REZLnMWhD5+/tDIpGUukVGRgIACgoKEBkZCXd3dzg4OKB///5ISUnRi5GUlISIiAjY29ujVq1amDhxIlQqld410dHRaN26NWxtbREUFITly5dX1ks0KW7ySkREZBxmLYgOHTqE27dv625RUVEAgJdeegkAMH78ePz9999Yv3499uzZg1u3bqFfv366z1er1YiIiEBhYSH279+PFStWYPny5Zg6darumsTERERERKBbt244duwYxo0bhxEjRmDbtm2V+2JNoGRBxJlmREREFScz55N7enrqPf78889Rv359PPnkk8jKysKPP/6I1atXo3v37gCAZcuWITg4GAcOHEBoaCi2b9+OM2fOYMeOHfDy8kLLli0xc+ZMvPfee5g2bRpsbGywdOlSBAQEYO7cuQCA4OBgxMTEYP78+QgPDy8zL6VSCaVSqXucnZ0NAFCpVKVanwyljVeRuHVd7XT3L6VkQ6XyMmr8RzFlbMY3X2zGN19sS49vyblbenxLzt2U8csTTyKEEEZ99goqLCyEr68vJkyYgA8++AC7du1Cjx49cPfuXbi4uOiuq1evHsaNG4fx48dj6tSp+Ouvv3Ds2DHd+cTERAQGBuLIkSNo1aoVunTpgtatW2PBggW6a5YtW4Zx48YhKyurzFymTZuG6dOnlzq+efNmKBSKMj7DPG7navD+vnwAQDtvGSJbyc2cERERUdWRl5eHiIgIZGVlwcnJ6aHXmrWFqKSNGzciMzMTr732GgAgOTkZNjY2esUQAHh5eSE5OVl3jZeXV6nz2nMPuyY7Oxv37t2DnZ0d/mvy5MmYMGGC7nF2djb8/PwQGhr6yC9oealUKsTHx6N9+/aQycr37ShSazAldgdUGoEc2KFjxw5Gjf8opozN+OaLzfjmi23p8S05d0uPb8m5mzK+tofncVSZgujHH39Enz594Ovra+5UYGtrC1tb21LHZTKZSX4QKhpbJgPqutnjSloeEtPzIJVaQSqVGC3+4+dhutiMb77YjG++2JYe35Jzt/T4lpy7KeKXJ1aVmHZ/7do17NixAyNGjNAd8/b2RmFhITIzM/WuTUlJgbe3t+6a/8460z5+1DVOTk5ltg5ZGu3A6oIiDW5nF5g5GyIiIstUJQqiZcuWoVatWoiIiNAda9OmDaytrbFz507dsfPnzyMpKQlhYWEAgLCwMJw8eRKpqam6a6KiouDk5ISQkBDdNSVjaK/RxrB0JVesTuRMMyIiogoxe0Gk0WiwbNkyDB06VK9py9nZGcOHD8eECROwe/duJCQkYNiwYQgLC0NoaCgAoFevXggJCcHgwYNx/PhxbNu2DVOmTEFkZKSuy2v06NG4cuUKJk2ahHPnzuHrr7/GunXrMH78eLO8XmMLLLnJK3e9JyIiqhCzjyHasWMHkpKS8Prrr5c6N3/+fEilUvTv3x9KpRLh4eH4+uuvdeetrKywadMmvPnmmwgLC4NCocDQoUMxY8YM3TUBAQHYvHkzxo8fj4ULF6JOnTr44YcfHjjl3tJw13siIiLDmb0g6tWrFx40818ul2PJkiVYsmTJAz+/Xr162LJly0Ofo2vXrjh69KhBeVZVJbvMLnOTVyIiogoxe5cZGcbDwQaO8uK6li1EREREFcOCyMJJJBJdK9GtrHsoKFKbOSMiIiLLw4KoGqh/fxyREMDVdLYSERERlRcLomqAm7wSEREZhgVRNRDg8e/A6iscWE1ERFRuLIiqAbYQERERGYYFUTUQ4KGA5P4WZpfTWBARERGVFwuiakBubQVf5+J92a7cyX3guk5ERERUNhZE1YS22yynQIW03EIzZ0NERGRZWBBVE/VLbvLKbjMiIqJyYUFUTegPrOZMMyIiovJgQVRN6G3yyhYiIiKicmFBVE2U3OSVLURERETlw4KomvBxkkNuXfzt5FpERERE5cOCqJqQSiW6FauTMvJRpNaYOSMiIiLLwYKoGtEOrFZpBJIy8s2cDRERkeVgQVSN1C8xsDqR3WZERESPjQVRNaI3sDqNA6uJiIgeFwuiakRv6j1biIiIiB4bC6JqhLveExERVQwLomrEUW4NT0dbAOwyIyIiKg8WRNVM4P1us7TcQmTdKzJzNkRERJaBBVE1E8hNXomIiMqNBVE1U5+bvBIREZUbC6JqhgOriYiIyo8FUTWj3b4D4MBqIiKix8WCqJrxc7WDtZUEAFuIiIiIHhcLompGZiVFXTd7AMWDqjUaYeaMiIiIqj4WRNWQdqaZUqXBrawCM2dDRERU9bEgqoZKDqzm1HsiIqJHY0FUDdX34FpERERE5WH2gujmzZsYNGgQ3N3dYWdnh2bNmuHw4cO680IITJ06FT4+PrCzs0PPnj1x8eJFvRgZGRkYOHAgnJyc4OLiguHDhyM3V3+G1YkTJ9C5c2fI5XL4+flhzpw5lfL6zEFv6j0LIiIiokeqUEF05MgRnDx5Uvf4zz//xPPPP48PPvgAhYWFjx3n7t276NixI6ytrfHPP//gzJkzmDt3LlxdXXXXzJkzB4sWLcLSpUsRHx8PhUKB8PBwFBT8OzZm4MCBOH36NKKiorBp0ybs3bsXo0aN0p3Pzs5Gr169UK9ePSQkJOCLL77AtGnT8N1331Xk5Vd5JXe9T0zLN2MmRERElqFCBdEbb7yBCxcuAACuXLmCAQMGwN7eHuvXr8ekSZMeO87s2bPh5+eHZcuWoV27dggICECvXr1Qv359AMWtQwsWLMCUKVPQt29fNG/eHCtXrsStW7ewceNGAMDZs2exdetW/PDDD2jfvj06deqExYsXY82aNbh16xYAYNWqVSgsLMRPP/2EJk2aYMCAARg7dizmzZtXkZdf5bkpbOBsZw2ALURERESPQ1aRT7pw4QJatmwJAFi/fj26dOmC1atXIzY2FgMGDMCCBQseK85ff/2F8PBwvPTSS9izZw9q166Nt956CyNHjgQAJCYmIjk5GT179tR9jrOzM9q3b4+4uDgMGDAAcXFxcHFxQdu2bXXX9OzZE1KpFPHx8XjhhRcQFxeHLl26wMbGRndNeHg4Zs+ejbt37+q1SAGAUqmEUqnUPc7OzgYAqFQqqFSqcn2tHkUbz9hxAzzscex6Fm5nFUCpUhg9PmC63BnfvLEZ33yxLT2+Jedu6fEtOXdTxi9PvAoVREIIaDQaAMCOHTvwzDPPAAD8/PyQlpb22HGuXLmCb775BhMmTMAHH3yAQ4cOYezYsbCxscHQoUORnJwMAPDy8tL7PC8vL9255ORk1KpVS/9FyWRwc3PTuyYgIKBUDO25/xZEs2bNwvTp00vle+DAASgUilLHjSE+Pt6o8Rw0/3YpJudrjB6/JFPGZnzzxWZ888W29PiWnLulx7fk3E0RPy/v8XtJKlQQtW3bFp988gl69uyJPXv24JtvvgFQ3KLz3+LlYTQaDdq2bYvPPvsMANCqVSucOnUKS5cuxdChQyuSmlFMnjwZEyZM0D3Ozs6Gn58fQkND4eTkZNTnUqlUiI+PR/v27SGTVejbUaYTqiuIuVk8+Dw5T4OXn+pg1PiA6XJnfPPGZnzzxbb0+Jacu6XHt+TcTRlf28PzOCr0rPPnz8egQYOwceNGfPjhhwgKCgIAbNiwAR06dHjsOD4+PggJCdE7FhwcjN9++w0A4O3tDQBISUmBj4+P7pqUlBRdl523tzdSU1P1YqhUKmRkZOg+39vbGykpKXrXaB9rrynJ1tYWtra2pY7LZDKT/CCYInYDL0fd/eQ8YVG5M37ViM345ott6fEtOXdLj2/JuZsifnliVehZW7RooTfLTOuLL74o15N37NgR58+f1zt24cIF1KtXDwAQEBAAb29v7Ny5U1cAZWdnIz4+Hm+++SYAICwsDJmZmUhISECbNm0AALt27YJGo0H79u1113z44YcoKiqCtXXxYOOoqCg0atSoVHdZdaFdrRoAbudpzJgJERFR1VehWWaBgYFIT08vdbygoAANGzZ87Djjx4/HgQMH8Nlnn+HSpUtYvXo1vvvuO0RGRgIAJBIJxo0bh08++QR//fUXTp48iSFDhsDX1xfPP/88gOIWpd69e2PkyJE4ePAgYmNjMWbMGAwYMAC+vr4AgFdffRU2NjYYPnw4Tp8+jbVr12LhwoV63WLVTV03e0iK93hFMgsiIiKih6pQC9HVq1ehVqtLHVcqlbhx48Zjx3niiSfwxx9/YPLkyZgxYwYCAgKwYMECDBw4UHfNpEmTkJeXh1GjRiEzMxOdOnXC1q1bIZfLddesWrUKY8aMQY8ePSCVStG/f38sWrRId97Z2Rnbt29HZGQk2rRpAw8PD0ydOlVvraLqRm5thTqudriecQ9J2RoMW3EYgR4O8PdQwN9DgUAPBWq72EFmZfa1OYmIiMyuXAXRX3/9pbu/bds2ODs76x6r1Wrs3Lmz1GyuR3nmmWd0s9TKIpFIMGPGDMyYMeOB17i5uWH16tUPfZ7mzZtj37595crN0jXycsL1jHtQC2DfxXTsu6jfqmdtJYGfqz0C7hdJ2kLJ30MBHyc5pFKJmTInIiKqXOUqiLTdVBKJpNQsMGtra/j7+2Pu3LlGS44MM/6pBsjMV+LUjUwUlG7QQ5Fa4EpaXpmLN9rKpKjn/m+xFOCuQIBH8c3T0RYSCYslIiKqPspVEGnXHgoICMChQ4fg4eFhkqTIOJr4OmPNyPaIiYlB45ZP4HqmEol38pCYnoeraXlITMvD1fQ8FBSVHmOkVGlwISUXF1JyS51T2FihnrsC/u72sC0oRKMWSni7mG7WARERkalV6L9YYmKisfMgE5JIJPBwsIW3iwJP+LvpndNoBFJyCoqLo7R8JKblIjEtH1fT85CUno9CdeliKa9QjTO3s3HmdvH6Dpl/nMayYe0q5bUQERGZQoXf1u/cuRM7d+5EamqqruVI66effjI4MaocUqkEPs528HG2Q4f6+ufUGoFbmfd0LUnFRVPxx+t370GtEQCAmEtpyC9Uwd6GrURERGSZKvQfbPr06ZgxYwbatm0LHx8fjieppqykEvi52cPPzR5d4Kl3rkitweTfTmDDkZsoUgscTMxA10a1HhCJiIioaqtQQbR06VIsX74cgwcPNnY+ZCGsraTo2sgDG47cBADEXExjQURERBarQovQFBYWlmuLDqqeQgPcoG0bjLn0+Jv6EhERVTUVKohGjBjxyHV/qPpzsbeBv3Pxj9C55BzcyVGaOSMiIqKKqVCXWUFBAb777jvs2LEDzZs31+0PpjVv3jyjJEdVXxN3KyRmFQ+q3385DX1b1jZzRkREROVXoYLoxIkTus1WT506pXeOA6xrlqYeVth0pQhA8TgiFkRERGSJKlQQ7d6929h5kIWq72IFubUUBUUaxFxKgxCCRTEREVkc7uxJBrGxkqBtPVcAwO2sgjK3ASEiIqrqKtRC1K1bt4e2AuzatavCCZHl6RTkjphLxRvHxlxMQ31PBzNnREREVD4VKoi044e0ioqKcOzYMZw6darUpq9U/XWo7667H3MpDUM7+JsvGSIiogqoUEE0f/78Mo9PmzYNubmlNwOl6q2xlyPcFTZIzyvEgcvpUKk1kFmxN5aIiCyHUf9rDRo0iPuY1UBSqQQdgjwAADlKFY7fyDJzRkREROVj1IIoLi4OcrncmCHJQnQK+rfbLJarVhMRkYWpUJdZv3799B4LIXD79m0cPnwYH330kVESI8vSqcG/m7/GXEzD2B4NzJgNERFR+VSoIHJ2dtZ7LJVK0ahRI8yYMQO9evUySmJkWWq72CHAQ4HEtDwcSbqLPKUKCtsK/XgRERFVugr9x1q2bJmx86BqoFOQBxLT8qDSCMQnpqN7Yy9zp0RERPRYDBpDlJCQgF9++QW//PILjh49aqycyEJ1vD+wGgBiLqabMRMiIqLyqVALUWpqKgYMGIDo6Gi4uLgAADIzM9GtWzesWbMGnp6eDw9A1VJYfXdIJYBGcGA1ERFZlgq1EL399tvIycnB6dOnkZGRgYyMDJw6dQrZ2dkYO3assXMkC+FsZ43mdVwAAOdTcpCaXWDehIiIiB5ThQqirVu34uuvv0ZwcLDuWEhICJYsWYJ//vnHaMmR5elUotss9jJbiYiIyDJUqCDSaDSwtrYuddza2hoajcbgpMhydWrwb0G07yILIiIisgwVKoi6d++Od955B7du3dIdu3nzJsaPH48ePXoYLTmyPK3qusDO2gpA8TgiIYSZMyIiInq0ChVEX331FbKzs+Hv74/69eujfv36CAgIQHZ2NhYvXmzsHMmC2Mqs0D7QDQCQkq3E5Tvc246IiKq+Cs0y8/Pzw5EjR7Bjxw6cO3cOABAcHIyePXsaNTmyTJ2CPBB9/g6A4m6zoFqOZs6IiIjo4crVQrRr1y6EhIQgOzsbEokETz31FN5++228/fbbeOKJJ9CkSRPs27fPVLmShSi5HhGn3xMRkSUoV0G0YMECjBw5Ek5OTqXOOTs744033sC8efOMlhxZpsbejvBwsAEAHLiSgSI1B9oTEVHVVq6C6Pjx4+jdu/cDz/fq1QsJCQkGJ0WWTSKR6FqJcpUqHL+ead6EiIiIHqFcBVFKSkqZ0+21ZDIZ7ty5Y3BSZPlKrkfE6fdERFTVlasgql27Nk6dOvXA8ydOnICPj89jx5s2bRokEonerXHjxrrzBQUFiIyMhLu7OxwcHNC/f3+kpKToxUhKSkJERATs7e1Rq1YtTJw4ESqVSu+a6OhotG7dGra2tggKCsLy5csfO0eqGI4jIiIiS1Kugujpp5/GRx99hIKC0lsy3Lt3Dx9//DGeeeaZciXQpEkT3L59W3eLiYnRnRs/fjz+/vtvrF+/Hnv27MGtW7fQr18/3Xm1Wo2IiAgUFhZi//79WLFiBZYvX46pU6fqrklMTERERAS6deuGY8eOYdy4cRgxYgS2bdtWrjypfHxd7BDoqQAAHL2eiZyCIjNnRERE9GDlmnY/ZcoU/P7772jYsCHGjBmDRo0aAQDOnTuHJUuWQK1W48MPPyxfAjIZvL29Sx3PysrCjz/+iNWrV6N79+4AgGXLliE4OBgHDhxAaGgotm/fjjNnzmDHjh3w8vJCy5YtMXPmTLz33nuYNm0abGxssHTpUgQEBGDu3LkAipcHiImJwfz58xEeHl6uXKl8Ogd54MqdPKg1AvFXMtAzxMvcKREREZWpXAWRl5cX9u/fjzfffBOTJ0/WrUIskUgQHh6OJUuWwMurfP/0Ll68CF9fX8jlcoSFhWHWrFmoW7cuEhISUFRUpLe2UePGjVG3bl3ExcUhNDQUcXFxaNasmd5zhoeH480338Tp06fRqlUrxMXFlVofKTw8HOPGjXtgTkqlEkqlUvc4OzsbAKBSqUp1xxlKG8/YcSsj/qNihwa6YUXcNQDAvoup6NrQ3ajxDWXJ8S05d0uPb8m5mzq+Jedu6fEtOXdTxi9PPImo4N4Kd+/exaVLlyCEQIMGDeDq6lruGP/88w9yc3PRqFEj3L59G9OnT8fNmzdx6tQp/P333xg2bJheYQIA7dq1Q7du3TB79myMGjUK165d0+v+ys/Ph0KhwJYtW9CnTx80bNgQw4YNw+TJk3XXbNmyBREREcjPz4ednV2pvKZNm4bp06eXOr5582YoFIpyv86aKr9IIHJnHjQC8FVIMKsLv3ZERFR58vLyEBERgaysrDKXDCqpQitVA4CrqyueeOKJin46AKBPnz66+82bN0f79u1Rr149rFu3rsxCpbJMnjwZEyZM0D3Ozs6Gn58fQkNDH/kFLS+VSoX4+Hi0b98eMlmFvx1mif84sVucj8fR65m4lSdQv1kbeDvJjRrfEJYc35Jzt/T4lpy7qeNbcu6WHt+SczdlfG0Pz+Mw/qsygIuLCxo2bIhLly7hqaeeQmFhITIzM+Hi4qK7JiUlRTfmyNvbGwcPHtSLoZ2FVvKa/85MS0lJgZOT0wOLLltbW9ja2pY6LpPJTPKDYOrYpo7/sNidG3ri6P11iA4kZuLFNnWMGt8YLDm+Jedu6fEtOXdTx7fk3C09viXnbor45YlVoc1dTSU3NxeXL1+Gj48P2rRpA2tra+zcuVN3/vz580hKSkJYWBgAICwsDCdPnkRqaqrumqioKDg5OSEkJER3TckY2mu0Mci0OnH6PRERWQCzFkT/+9//sGfPHly9ehX79+/HCy+8ACsrK7zyyitwdnbG8OHDMWHCBOzevRsJCQkYNmwYwsLCEBoaCqB4ZeyQkBAMHjwYx48fx7Zt2zBlyhRERkbqWnhGjx6NK1euYNKkSTh37hy+/vprrFu3DuPHjzfnS68xWvq5wN7GCgAQcykNFRyyRkREZFJmLYhu3LiBV155BY0aNcLLL78Md3d3HDhwAJ6engCA+fPn45lnnkH//v3RpUsXeHt74/fff9d9vpWVFTZt2gQrKyuEhYVh0KBBGDJkCGbMmKG7JiAgAJs3b0ZUVBRatGiBuXPn4ocffuCU+0piI5MiNLB4dtmdHCUupOSaOSMiIqLSzDqGaM2aNQ89L5fLsWTJEixZsuSB19SrVw9btmx5aJyuXbvi6NGjFcqRDNcxyAO7zhV3a8ZcSkMjb0czZ0RERKSvSo0houqpc4N/xxHFXORed0REVPWwICKTa1DLAZ6OxWO64hMzUKjSmDkjIiIifSyIyOQkEolutll+oRpHk+6aOSMiIiJ9LIioUnD6PRERVWUsiKhSdCxREMWwICIioiqGBRFVCm9nORrUcgAAHL+RheyCIjNnRERE9C8WRFRptK1Eao3AgcvpZs6GiIjoXyyIqNLoTb9ntxkREVUhLIio0rQPdIeVVAKABREREVUtLIio0jjYytDKzwUAcOVOHm5l3jNvQkRERPexIKJK1YndZkREVAWxIKJKxfWIiIioKmJBRJWqhZ8LHGyL9xSOvZQGjUaYOSMiIiIWRFTJrK2kCA10AwCk5RbifEqOmTMiIiJiQURmoLdq9UV2mxERkfmxIKJKx/WIiIioqmFBRJWuvqcDvJxsAQAHEzOgVKnNnBEREdV0LIio0kkkEnQK8gQA3CtS48i1TPMmRERENR4LIjKLTg3cdfc5/Z6IiMyNBRGZRcf6/44j2seCiIiIzIwFEZlFLSc5Gnk5AgBO3shEVn6RmTMiIqKajAURmY12+r1GAHFX2EpERETmw4KIzIbT74mIqKpgQURm0y7ADdZWEgBA7KV0M2dDREQ1GQsiMhuFrQyt6roCABLT8nDjbr6ZMyIiopqKBRGZVacS23hw+j0REZkLCyIyq5L7mu3jvmZERGQmLIjIrFrUcYajrQwAsP9yOjQaYeaMiIioJmJBRGYls5IitH7xqtUZeYU4m5xt5oyIiKgmYkFEZqc3/Z7dZkREZAYsiMjsSo4j4npERERkDiyIyOwCPRTwcZYDAA4mZqCgSG3mjIiIqKapMgXR559/DolEgnHjxumOFRQUIDIyEu7u7nBwcED//v2RkpKi93lJSUmIiIiAvb09atWqhYkTJ0KlUuldEx0djdatW8PW1hZBQUFYvnx5JbwielwSiUQ3/V6p0uDItbtmzoiIiGqaKlEQHTp0CN9++y2aN2+ud3z8+PH4+++/sX79euzZswe3bt1Cv379dOfVajUiIiJQWFiI/fv3Y8WKFVi+fDmmTp2quyYxMRERERHo1q0bjh07hnHjxmHEiBHYtm1bpb0+erROJcYR7WO3GRERVTKZuRPIzc3FwIED8f333+OTTz7RHc/KysKPP/6I1atXo3v37gCAZcuWITg4GAcOHEBoaCi2b9+OM2fOYMeOHfDy8kLLli0xc+ZMvPfee5g2bRpsbGywdOlSBAQEYO7cuQCA4OBgxMTEYP78+QgPDy8zJ6VSCaVSqXucnV0880mlUpVqfTKUNp6x41ZGfGPGbu/vorsfc/EO3u0ZZNFfG1PHt+TcLT2+Jedu6viWnLulx7fk3E0ZvzzxJEIIsy78MnToULi5uWH+/Pno2rUrWrZsiQULFmDXrl3o0aMH7t69CxcXF9319erVw7hx4zB+/HhMnToVf/31F44dO6Y7n5iYiMDAQBw5cgStWrVCly5d0Lp1ayxYsEB3zbJlyzBu3DhkZWWVmdO0adMwffr0Usc3b94MhUJhrJdO/zElJh/XczSQAPiqhwIONhJzp0RERBYsLy8PERERyMrKgpOT00OvNWsL0Zo1a3DkyBEcOnSo1Lnk5GTY2NjoFUMA4OXlheTkZN01Xl5epc5rzz3smuzsbNy7dw92dnalnnvy5MmYMGGC7nF2djb8/PwQGhr6yC9oealUKsTHx6N9+/aQyYz/7TBlfGPH7pV9Hj/GXoUAoPEMQvvGHhb7tTF1fEvO3dLjW3Lupo5vyblbenxLzt2U8bU9PI/DbAXR9evX8c477yAqKgpyudxcaZTJ1tYWtra2pY7LZDKT/CCYOrap4xsrdueGnvgx9ioAIC7xLvo09TZq/Aex5PiWnLulx7fk3E0d35Jzt/T4lpy7KeKXJ5bZBlUnJCQgNTUVrVu31n0B9uzZg0WLFkEmk8HLywuFhYXIzMzU+7yUlBR4exf/o/T29i4160z7+FHXODk5ldk6RObTLsANNlbFP5JcoJGIiCqT2QqiHj164OTJkzh27Jju1rZtWwwcOFB339raGjt37tR9zvnz55GUlISwsDAAQFhYGE6ePInU1FTdNVFRUXByckJISIjumpIxtNdoY1DVYW8jQ+t6LgCApIx8JGXkmzchIiKqMczWZebo6IimTZvqHVMoFHB3d9cdHz58OCZMmAA3Nzc4OTnh7bffRlhYGEJDQwEAvXr1QkhICAYPHow5c+YgOTkZU6ZMQWRkpK7La/To0fjqq68wadIkvP7669i1axfWrVuHzZs3V+4LpsfSKcgDB65kACje7NXPzPkQEVHNUCXWIXqQ+fPn45lnnkH//v3RpUsXeHt74/fff9edt7KywqZNm2BlZYWwsDAMGjQIQ4YMwYwZM3TXBAQEYPPmzYiKikKLFi0wd+5c/PDDDw+cck/m1amBp+5+7OV0M2ZCREQ1idnXISopOjpa77FcLseSJUuwZMmSB35OvXr1sGXLlofG7dq1K44ePWqMFMnEmtV2hqNchpwCFeIuZ+DlOjbmTomIiGqAKt1CRDWPlVSCDvXdAQCZ94pwLVtj5oyIiKgmYEFEVU7JbrMzadzolYiITI8FEVU52o1eAeBUOgsiIiIyPRZEVOX4u9ujtkvxGlEX76pRUMSiiIiITIsFEVU5EolE10pUpAESrmWaNyEiIqr2WBBRldSxwb/dZn+fuG3GTIiIqCZgQURVUrdGnnCUF68KsfHYLVznqtVERGRCLIioSnKUW2NoWD0AgEoj8HX0ZTNnRERE1RkLIqqyhnWoB7v7S4duSLiOm5n3zJsQERFVWyyIqMpytrPGU/WsAQBFaoFvoi+ZOSMiIqquWBBRlRbubwOFjRUAYN2hG7idxVYiIiIyPhZEVKU52EgwOLQuAKBQrcFSjiUiIiITYEFEVd7rHf1hf7+V6NdD15GSXWDmjIiIqLphQURVnpvCBoPvzzgrVGnwDVuJiIjIyFgQkUUY2TkQdtb3W4kOJiGVrURERGRELIjIIng42GLQ/bFESpUG3+69YuaMiIioOmFBRBZjVJf6sJUV/8iuir+GOzlKM2dERETVBQsishiejrYY2L54LFFBkQbf72MrERERGQcLIrIoo58MhM39VqKf464hLZetREREZDgWRGRRajnJ8Wq74rFE94rU+GFfopkzIiKi6oAFEVmc0U/Wh41V8Y/uyriryMgrNHNGRERk6VgQkcXxdpZjQDs/AEB+oRo/xnAsERERGYYFEVmk0U/Wh7WVBACwYv81ZOazlYiIiCqOBRFZJF8XO7zctriVKFepwo8xHEtEREQVx4KILNabXf9tJVoeexVZ+UVmzoiIiCwVCyKyWHVc7fFimzoAgBylCj/FspWIiIgqhgURWbS3ugZBJi1uJfopNhHZBWwlIiKi8mNBRBbNz80e/VrXBgDkFKiwPPaqeRMiIiKLxIKILF5ktyBY3W8l+jEmETlsJSIionJiQUQWr567As+3LG4lyrpXhJVx18ycERERWRoWRFQtjOkehPuNRPh+3xXkKlXmTYiIiCyKWQuib775Bs2bN4eTkxOcnJwQFhaGf/75R3e+oKAAkZGRcHd3h4ODA/r374+UlBS9GElJSYiIiIC9vT1q1aqFiRMnQqXS/2cYHR2N1q1bw9bWFkFBQVi+fHllvDyqRAEeCvS930qUmV+En9lKRERE5WDWgqhOnTr4/PPPkZCQgMOHD6N79+7o27cvTp8+DQAYP348/v77b6xfvx579uzBrVu30K9fP93nq9VqREREoLCwEPv378eKFSuwfPlyTJ06VXdNYmIiIiIi0K1bNxw7dgzjxo3DiBEjsG3btkp/vWRa/20lymMrERERPSazFkTPPvssnn76aTRo0AANGzbEp59+CgcHBxw4cABZWVn48ccfMW/ePHTv3h1t2rTBsmXLsH//fhw4cAAAsH37dpw5cwa//PILWrZsiT59+mDmzJlYsmQJCguLt3JYunQpAgICMHfuXAQHB2PMmDF48cUXMX/+fHO+dDKB+p4OeLaFLwAgI68Qq+LZSkRERI9HZu4EtNRqNdavX4+8vDyEhYUhISEBRUVF6Nmzp+6axo0bo27duoiLi0NoaCji4uLQrFkzeHl56a4JDw/Hm2++idOnT6NVq1aIi4vTi6G9Zty4cQ/MRalUQqlU6h5nZ2cDAFQqVanuOENp4xk7bmXEr4q5v9klAH8dvwUhgG/3XMErbevAzsbKaPHLo6Z97WtKfEvO3dTxLTl3S49vybmbMn554kmEEMKoz15OJ0+eRFhYGAoKCuDg4IDVq1fj6aefxurVqzFs2DC9wgQA2rVrh27dumH27NkYNWoUrl27ptf9lZ+fD4VCgS1btqBPnz5o2LAhhg0bhsmTJ+uu2bJlCyIiIpCfnw87O7tSOU2bNg3Tp08vdXzz5s1QKBRGfPVkCl8fK0D87eJfglca26B3gI2ZMyIiInPIy8tDREQEsrKy4OTk9NBrzd5C1KhRIxw7dgxZWVnYsGEDhg4dij179pg1p8mTJ2PChAm6x9nZ2fDz80NoaOgjv6DlpVKpEB8fj/bt20MmM/63w5Txq2runkE5eHrxfgBA1A3gw/8Lhdy6dCtRVc3f3LEZ33yxLT2+Jedu6fEtOXdTxtf28DwOsxdENjY2CAoKAgC0adMGhw4dwsKFC/F///d/KCwsRGZmJlxcXHTXp6SkwNvbGwDg7e2NgwcP6sXTzkIrec1/Z6alpKTAycmpzNYhALC1tYWtrW2p4zKZzCQ/CKaOber4VS33kNqueLqZN7acTEZabiHWJdzC650CjBa/vGrS174mxbfk3E0d35Jzt/T4lpy7KeKXJ1aVW4dIo9FAqVSiTZs2sLa2xs6dO3Xnzp8/j6SkJISFhQEAwsLCcPLkSaSmpuquiYqKgpOTE0JCQnTXlIyhvUYbg6qnt7s30N1fuucyCorUZsyGiIiqOrMWRJMnT8bevXtx9epVnDx5EpMnT0Z0dDQGDhwIZ2dnDB8+HBMmTMDu3buRkJCAYcOGISwsDKGhoQCAXr16ISQkBIMHD8bx48exbds2TJkyBZGRkboWntGjR+PKlSuYNGkSzp07h6+//hrr1q3D+PHjzfnSycSCfZwQ3qR4sH1qjhJrD103c0ZERFSVmbUgSk1NxZAhQ9CoUSP06NEDhw4dwrZt2/DUU08BAObPn49nnnkG/fv3R5cuXeDt7Y3ff/9d9/lWVlbYtGkTrKysEBYWhkGDBmHIkCGYMWOG7pqAgABs3rwZUVFRaNGiBebOnYsffvgB4eHhlf56qXKN7fFvK9E30ZehVLGViIiIymbWMUQ//vjjQ8/L5XIsWbIES5YseeA19erVw5YtWx4ap2vXrjh69GiFciTL1cTXGT2DvbDjbAqSswuw7vANDA6tZ+60iIioCqpyY4iIjOmdkq1Euy+xlYiIiMrEgoiqtWZ1nNG9cS0AwK2sAvyWcNPMGRERUVXEgoiqvZKtREt2X0KhSmPGbIiIqCpiQUTVXgs/F3Rt5AkAuJl5D78fuWHmjIiIqKphQUQ1QskZZ0uiL6FIzVYiIiL6FwsiqhFa13VF5wYeAIDrGffwx1GOJSIion+xIKIa479jiVRsJSIiovtYEFGN0dbfDR2D3AEA19Lz8feJ22bOiIiIqgoWRFSjvNOjoe7+kugrUGuEGbMhIqKqggUR1SjtAtwQGugGALiano/42yozZ0RERFUBCyKqcUq2Ev1+sRBbTiUjK7/IjBkREZG5mXUvMyJzCA10Qzt/Nxy8moE79wTGrjkOqaR4vaIuDTzRpaEnWtRxhsyK7xeIiGoKFkRU40gkEnwQEYzBP8Yjp6C4y0wjgKNJmTialImFOy/CSS5DpwYeugLJ18XOzFkTEZEpsSCiGqmlnwvi3uuK5ZtjkG7jhZhL6biYmqs7n12gwpaTydhyMhkAUN9TgS4Ni4uj0AB32NlYmSt1IiIyARZEVGPJra3QzFOGjh0bQyaT4VbmPey7eAd7L6Qh5lIasu79O67o8p08XL6Th2WxV2Ejk6Kdvxu6NPRAl4aeaOTlCIlEYsZXQkREhmJBRHSfr4sd/u+Juvi/J+pCrRE4fiMT+y6kYe/FOziadBfaGfqFKg1iLhUXTZ9tOQcvJ1t0buCJzg080LmBJ9wUNuZ9IUREVG4siIjKYCWVoHVdV7Su64p3ejZA1r0i7L9UXBztvZCGm5n3dNemZCuxIeEGNiTcgEQCNKvtjC4NPNEh0BW3czW4cicPVjLjdrGpVWpkFHClbSIiY2FBRPQYnO2s0aeZD/o084EQApfv5GHvhTvYd/EODlzJwL0iNQBACODEjSycuJGFr3bf/+R9MSbLa+WleLzeKQC9m3rDmrPiiIgqjAURUTlJJBIE1XJAUC0HvN4pAEqVGoev3sXeC3ew58IdnEvOqbRcjl7PxNu/HoWPsxyDw+rhlSfqwpVddkRE5caCiMhAtjIrdAzyQMcgD0x+Ohip2QXYezENhxPTceN2MmrVqgWJxLitN0JocPBSMm7kFHeb3c4qwJyt57Fo50W80KoOhnX0R0MvR6M+JxFRdcaCiMjIajnJ8WKbOni+hTdiYzPRsWMzyGTG/VVTqVSIicmClW8wVsRdx85zKRACKCjS4NeDSfj1YBI6BXng9U7+6NqwFqRSzoIjInoYFkREFkoikSAs0B2dG3rhWnoeVuy/hnWHryNXWbzYpHYmXICHAkPD6uHFtn5wsOWvPBFRWTgKk6gaqOeuwNRnQxA3uTs+fjYE9dztdecS0/Iw7e8zCPtsJ2ZuOoOk9HwzZkpEVDWxICKqRhzl1hjWMQC73u2KH4a0Rccgd925HKUKP8Yk4skvd2PUysOIu5wOIYQZsyUiqjrYfk5UDVlJJegZ4oWeIV44l5yN5bFX8cfRm1CqNBAC2H4mBdvPpCDYxwnDOvrjuRa+kFtzOxIiqrnYQkRUzTX2dsLn/ZsjbnIPTAxvBC8nW925s7ezMWnDCXT8fBfmbj+P1OwCM2ZKRGQ+bCEiqiHcFDaI7BaEUV0CseXkbSyLvYpj1zMBAOl5hVi86xKW7rmMiGY+GBJa17zJEhFVMhZERDWMtZUUfVvWRt+WtXEk6S6WxV7FPydvQ6URKFILbDx2CxuP3UIdBymCrx6Fj4sdvJ3l8HGWw8tJDh9nO3g7yWFnwy42Iqo+WBAR1WDa/dpuP90YP8ddw68Hk3A3vwgAcCNXgxtnUx/4uc521vBxlsPbWQ5vJ/2P2qLJyU4GiYRrIBFR1ceCiIjg42yHSb0bY2yPBth49CZWxF3Fuds5eNgctKx7Rci6V/TQrUrsrK1KtCzdL5qc5fB0sEFKlhoNc5TwcrbiwpFEZHYsiIhIR25thQHt6uLF1r7Yuy8GDZq3xZ28IiRnFRTfsgtwO6sAKVkFuJ19DylZShSqNQ+Md69IjStpebiSllfm+Wn7oyGTSuBVqoXp3yLKy6n4ZiPjHBAiMh0WRERUJiupBD7Ocvi5OzzwGiEEMvIKi4uk+8WStnBKzirA7ax7SM4qQF6h+oExVBqBm5n3cDPz3kPz8XCwhbezLbyd7ODtbKvrlvMu0W2n4ErcRFRBZv3rMWvWLPz+++84d+4c7Ozs0KFDB8yePRuNGjXSXVNQUIB3330Xa9asgVKpRHh4OL7++mt4eXnprklKSsKbb76J3bt3w8HBAUOHDsWsWbP09o+Kjo7GhAkTcPr0afj5+WHKlCl47bXXKvPlElU7EokE7g62cHewRdPazg+8LqegSFcw3c4qwK27+Th+4Spg74qUbCWSswuQkVf40OdKy1UiLVeJUzezH3iNo1wGH2c5PB1sUZRXgE2pp+Aot4GDXAYHWysobGVwuH8reb/4vAy2MinHPBHVUGYtiPbs2YPIyEg88cQTUKlU+OCDD9CrVy+cOXMGCoUCADB+/Hhs3rwZ69evh7OzM8aMGYN+/fohNjYWAKBWqxEREQFvb2/s378ft2/fxpAhQ2BtbY3PPvsMAJCYmIiIiAiMHj0aq1atws6dOzFixAj4+PggPDzcbK+fqKZwlFvDUW6NoFqOAIo3p421SUbHjq11b1wKitRIzVYWtypl/7elqbgFKiW7AJqHDGzKKVAhpyAXF1JyAQAHk2+WK08rqaREwWRVqnBS2MqgsJEi7XYh7ihuwdvZHrWcbOHpYAsXe2sWU0QWzKwF0datW/UeL1++HLVq1UJCQgK6dOmCrKws/Pjjj1i9ejW6d+8OAFi2bBmCg4Nx4MABhIaGYvv27Thz5gx27NgBLy8vtGzZEjNnzsR7772HadOmwcbGBkuXLkVAQADmzp0LAAgODkZMTAzmz5/PgoioipBbW6Guuz3qltiH7b/UGoG0XOX9rrni7rjb2ffHNJUooJSqB49rehi1RugGiz/K2vMn9R5bW0ng6WALT0ftTQ5PR1vUcvz3WC1HW3g42HJVcKIqqEp1uGdlZQEA3NzcAAAJCQkoKipCz549ddc0btwYdevWRVxcHEJDQxEXF4dmzZrpdaGFh4fjzTffxOnTp9GqVSvExcXpxdBeM27cuDLzUCqVUCqVusfZ2cVN9CqVCiqVyiivVUsbz9hxKyO+Jedu6fEtOXdD47vby+Bu74CmPmWPbRJCICO3ADHxhxEU3AxKtUCuUo1cpQp5ShXySt4vVCO3QIXcwuLHuUr1/WuK798revDYp/8qUgvcyirAraxHr/btJJcVF0kOtvB0tClx3xZudjJcz1LD/VYm7OU2kFtbwVYm1d0MbYXiz2X1jG/JuZsyfnniSUQV2d1Ro9HgueeeQ2ZmJmJiYgAAq1evxrBhw/SKEwBo164dunXrhtmzZ2PUqFG4du0atm3bpjufn58PhUKBLVu2oE+fPmjYsCGGDRuGyZMn667ZsmULIiIikJ+fDzs7O73406ZNw/Tp00vluHnzZl1XHhFVf2qNQIEaKFAJFKiAeyqBArVAXpFAllIgU1n8seQtu1A8dLkCQ1lL79+sJP/el0pgY1X80doKsJH+e//fj4DN/ft2MgkU1hIorHH/Y/FNbgV2+1G1kpeXh4iICGRlZcHJyemh11aZFqLIyEicOnVKVwyZ0+TJkzFhwgTd4+zsbPj5+SE0NPSRX9DyUqlUiI+PR/v27fUGgVtCfEvO3dLjW3Lulh7/UbFVag0y8otwJ0dZfMtV4k5O4f2P+sfK0wKlVaQpvkFVsuwyTgkmk0rgZGcNZzsZnO2si29yazjbW8NZLrv/0Vr/o13xOVtrK4v+vlp6fEvO3ZTxtT08j6NKFERjxozBpk2bsHfvXtSpU0d33NvbG4WFhcjMzISLi4vueEpKCry9vXXXHDx4UC9eSkqK7pz2o/ZYyWucnJxKtQ4BgK2tLWxtbUsdl8lkJvlBMHVsU8e35NwtPb4l527p8R8UWyYDfG1t4Ov66NbkXKVKVySl5hTgTo4SyVn3cPHqdbh5eKFQLaBUqVFQpIFSpYZSpfn3fpEGSpUGyqLi4w9bD+pxqTTFyyg8asZfWeTWUjjLrWEliuB89CCkUgmkEsn9j4BUIoGVRALJ/ftS6f2PkuLzVlIJJKXuS2B1/3qJRAIJBDLSCnCo4CpqOcnhprCBu8IWHg42cFPYwMXeBlZGWOSzOv5c1tT45Yll1oJICIG3334bf/zxB6KjoxEQEKB3vk2bNrC2tsbOnTvRv39/AMD58+eRlJSEsLAwAEBYWBg+/fRTpKamolatWgCAqKgoODk5ISQkRHfNli1b9GJHRUXpYhARmYN29lqAx7/Fk0qlQmzsHXTs2LRcf8w1GlFcIOkKJ/X9gkmjV1TlKYtw9NQ5eNauhxylGpn5Rci+V4TMe4XIuleEzPziQeU5BeUby1FQpEFBUfHwhlu5D1693Bh2JV0u87hUUryJsbZQcnewgbvCBu4OtnBT2MDDocR9hS23liE9Zi2IIiMjsXr1avz5559wdHREcnIyAMDZ2Rl2dnZwdnbG8OHDMWHCBLi5ucHJyQlvv/02wsLCEBoaCgDo1asXQkJCMHjwYMyZMwfJycmYMmUKIiMjda08o0ePxldffYVJkybh9ddfx65du7Bu3Tps3rzZbK+diMiYpFIJ7GysHrnprkqlgnPWZXTsGPDQgkul1iCnQIXM+7PuMvMLdTPwsu4XTZn/fZxfiMx8JSCRQiMENALQCIHKGqmqEUBabiHScgsB5D7yeplUUlw8ORS3MrnaWSMvU4mYnPNQyK1hZ20FexsryK2tYG8jg52NFHbWMtjf/zrbWRd/tLexglzGLWgsnVkLom+++QYA0LVrV73jy5Yt0y2aOH/+fEilUvTv319vYUYtKysrbNq0CW+++SbCwsKgUCgwdOhQzJgxQ3dNQEAANm/ejPHjx2PhwoWoU6cOfvjhB065JyJ6AJmVFK4KG7gqbB77c4pbt2LRsWNHvWJLlCiONEJAoyn7vvp+8aQRAmqN/n2NAIpUKsQfPgK/oGDcvadGeq4SGXnFBVBGnhLpeYVIzy1EWq7ysZZeUGkEUnOUSM3Rn7izM+nqY7/mkuTW0uLCqWShdL+osrO2gp21FOocJTIcbqOBtxMCPRWwt6kSI1cIVaDL7FHkcjmWLFmCJUuWPPCaevXqleoS+6+uXbvi6NGj5c6RiIgMI7k/FsgKhi8ZkOpshY4NPR/auiWEQH6hGum5hUjPU/778X7BVFxEKXX30/OUKFIb3oxV3G346PFXf146obtf28UOgZ4K1Pd0QP1aDqjvqUCQpwM8HW3ZnVfJWJoSEVG1IpFIilcVt5U9dKFPLSEEsgtUSM3KR+zBBDQMbgqlBrhXqMa9QjXyi9QoKFQjv1CN/CKV7v69ovvnS9y/V3T/caEK+UXqR3YXavfx23cxTe+4o60MgfcLpPqeDqjv6YCgWgrUdVNwo2MTYUFEREQ1mkQigbOdNRTWCtxytkK7ADejzHQSQugGuOcXqpGZp8S22ATYePghMf0eLt/JxaXU3DIHsOcoVTh+PRPHr2fqHbeSSlDPzR6Bng6oX6u4Nal+LQfUc5UbnG9Nx4KIiIjIBCQSCeTWxeOIXOyBWg7WuOMlQ8eOgbqCSwiBtNxCXL6TW3xLzdPdv5l5r1QLk1ojcCUtD1fS8rDjrP45RxsJ/I7th7ezHbycbFHLUY5aTrbwcpTDy0kOL6fijZiNsTRBdcSCiIiIyEwkEolur7vQQHe9c/cK1UhM+7dAunwnD5dTc3ElLRcFRaUHjecUCpy5nYMztx+87IFUAng42OoKJE/H4o/ax9oiyl1R8wonFkRERERVkJ2NFUJ8nRDiq79DgkYjcCvrnq5AKu56y8HF25nIKixuRXoQjYBuZt3Jmw9+bitp8WbFtbRFkqMN7mUUIsn6Oryc7eBRYv+96rJZMQsiIiIiCyKVSlDH1R51XO3xZENPAP8ueRAW1gFZSg1ScwqQmq1ESnYBUrKLV0L/92PxqugPqZug1ggkZxcgObsAQJbu+B+XzpS61tFWpiuQPBxtij862JY4Vlw4eTjYwFZWdYsnFkRERETVhFT6bxdcE98HX6fWCKTnKfWKppTsguLWo+wCpNwvoNJzH144AcUDwHOUKiSm5T0yPye5TL9Qut/K5Gonw51UFRrnFcLL2TylCQsiIiKiGsZKKrnfFSZH09rOD7xOpdYgPa8QNzPysPfgMXjWrY+MvCKk5RZvUpx2f+PitBwlcpSP3u4lu0CF7AIVrtwpu3hqHJyJcOdHL5VgCiyIiIiIqEwyKym8nORwt5ch55oMHdvWeeCSBAVF6uLNiu8XSP8WTAX/Fk73z+UVqsuM4eHw+CujGxsLIiIiIjKY3NoKfm728HN7dAtPfqFKVyzdySlESlY+jp69BD9X87QOASyIiIiIqJLZ28hQ1/3flcRVKhX8VdfhVo6984yN638TERFRjceCiIiIiGo8FkRERERU47EgIiIiohqPBRERERHVeCyIiIiIqMZjQUREREQ1HgsiIiIiqvFYEBEREVGNx4KIiIiIajwWRERERFTjsSAiIiKiGo8FEREREdV43O3+MQghAADZ2dlGj61SqZCXl4fs7GzIZMb/dpgyviXnbunxLTl3S49vybmbOr4l527p8S05d1PG1/7f1v4ffxgWRI8hJycHAODn52fmTIiIiKi8cnJy4Ozs/NBrJOJxyqYaTqPR4NatW3B0dIREIjFq7OzsbPj5+eH69etwcnIyamxTx7fk3C09viXnbunxLTl3U8e35NwtPb4l527K+EII5OTkwNfXF1Lpw0cJsYXoMUilUtSpU8ekz+Hk5GSSH7LKiG/JuVt6fEvO3dLjW3Lupo5vyblbenxLzt1U8R/VMqTFQdVERERU47EgIiIiohqPBZGZ2dra4uOPP4atra3Fxbfk3C09viXnbunxLTl3U8e35NwtPb4l514Z8R8HB1UTERFRjccWIiIiIqrxWBARERFRjceCiIiIiGo8FkRERERU47EgIiIiohqPBVE1VlBQYO4UyIJ8/PHHuHbtmrnTqHKKiorQo0cPXLx40eTPdefOHcTExCAmJgZ37twxSswZM2YgPz+/1PF79+5hxowZRnmO6kStVuPYsWO4e/euuVN5LCqVCjt27MC3336r23fz1q1byM3NNXNmlofT7s0oNzcXGo1G75ihS5ZrNBp8+umnWLp0KVJSUnDhwgUEBgbio48+gr+/P4YPH25Q/MpSWFiIxMRE1K9f36g7H+fl5eHzzz/Hzp07kZqaWurrf+XKlXLFW7Ro0WNfO3bs2HLFLsvly5exbNkyXL58GQsXLkStWrXwzz//oG7dumjSpIlBsVu2bIlTp07hySefxPDhw9G/f3+D1gTR7jL9OEy5FYAxeHp6Yv/+/WjQoIFJ4ufl5eHtt9/Gzz//DLVaDQCwsrLCkCFDsHjxYtjb21c4tpWVFW7fvo1atWrpHU9PT0etWrV0z2cItVqNjRs34uzZswCAJk2a4LnnnoOVlVWF4v3111+Pfe1zzz1XoefQGjduHJo1a4bhw4dDrVbjySefxP79+2Fvb49Nmzaha9euFY4dGBiIQ4cOwd3dXe94ZmYmWrduXe6/N/917do19O7dG0lJSVAqlbq/9++88w6USiWWLl1qUPyhQ4di+PDh6NKli0FxLIagSnXlyhXx9NNPC3t7eyGVSnU3iUQipFKpwfGnT58uAgMDxS+//CLs7OzE5cuXhRBCrFmzRoSGhhocX2vlypWiQ4cOwsfHR1y9elUIIcT8+fPFxo0bDYqbl5cnXn/9dWFlZSWsrKx0+Y8ZM0bMmjXL4LwHDBggfHx8xKRJk8T8+fPFggUL9G7l5e/vr3dTKBRCIpEIV1dX4erqKiQSiVAoFCIgIMDg3KOjo4WdnZ3o2bOnsLGx0X1tZs2aJfr3729wfCGEOHLkiHj77beFh4eHcHFxEaNHjxYHDx6sUCztz/Tj3IzlwoUL4ttvvxUzZ84U06dP17sZYty4ceK9994zUpaljRo1SgQGBootW7aIrKwskZWVJTZv3izq168vRo8ebVBsiUQiUlNTSx3fuXOn8PDwMCi2EEJcvHhRNGzYUNjb24tWrVqJVq1aCXt7e9GoUSNx6dKlCsWUSCSPdTPGz07t2rXFoUOHhBBC/PHHH8LX11ecP39eTJkyRXTo0MGg2BKJRKSkpJQ6npycLGxsbAyKLYQQffv2FYMGDRJKpVI4ODjo/ibs3r1bBAUFGSW+tbW1CAoKEp9++qm4ceOGwTH/6+7du+L7778X77//vkhPTxdCCJGQkGCS53oUFkSVrEOHDiIsLEysWbNG7N69W0RHR+vdDFW/fn2xY8cOIYTQ+wU5e/ascHFxMTi+EEJ8/fXXwsPDQ3zyySd6RdeyZctE165dDYo9duxY0aZNG7Fv3z6hUCh0sTdu3ChatmxpcO7Ozs4iJibG4DhlWbVqlejYsaM4d+6c7ti5c+dE586dxS+//GJw/NDQUDF37lwhhP73Nj4+XtSuXdvg+CUVFhaK3377TTzzzDPC2tpaNGvWTCxYsEBkZmY+doySP9fLly8X3t7e4v333xd//vmn+PPPP8X7778vfHx8xPLly42S83fffSesrKyEl5eXaNGihWjZsqXu1qpVK4NijxkzRjg5OYk2bdqIUaNGifHjx+vdDOXu7i52795d6viuXbsqXLS4uLgIV1dXIZVKdfe1NycnJyGVSsVbb71lYOZC9OnTR/Tu3Vv3z0wIIdLS0kTv3r3F008/bXB8U7O1tRXXr18XQggxcuRI8c477wghit+8Ojo6Viim9mdcIpGIlStX6h7/+eef4vfffxeRkZGiYcOGBufu5uam+3tT8m9CYmKisLOzMzi+EEKkpqaKuXPniubNmwuZTCZ69+4t1q9fLwoLCw2Offz4ceHp6SmCgoKETCbT5f/hhx+KwYMHGxy/vFgQVTKFQqH3D9PY5HK5rsWm5C/I6dOnhUKhMMpzBAcHiz/++KPUc5w8eVK4u7sbFLtu3boiLi6uVOyLFy9W+I9TSf7+/uLMmTMGxylLYGCgOHLkSKnjhw8fFv7+/gbHVygU4sqVK0KI0n/8bG1tDY5fklKpFGvWrBG9evUSMplMdOnSRQQFBQlHR0exZs2acsfr3r27WL16danjq1atEk8++aQRMi7+2fn888+NEuu/unbt+sBbt27dDI5vZ2dX5s/lqVOnhL29fYViLl++XCxbtkxIJBKxcOFCsXz5ct1t9erVYv/+/YamLYQQwt7eXpw4caLU8WPHjhntb44p1a1bV2zbtk2oVCrh5+cnNm3aJIQo/tpX9E1kyRas/7Zq2djYiIYNG4q///7b4NxdXFzE6dOnhRD6fxP27dsnatWqZXD8/0pISBBjxowRcrlceHh4iHHjxokLFy5UOF6PHj3ExIkThRD6+cfGxop69eoZI+VyMd7gDHosTzzxBK5fv45GjRqZJH5ISAj27duHevXq6R3fsGEDWrVqZZTnSExMLDOWra0t8vLyDIp9586dUmMdgOIxFhKJxKDYADBz5kxMnToVK1asMGhcRllu374NlUpV6rharUZKSorB8V1cXHD79m0EBAToHT969Chq165tcHwASEhIwLJly/Drr7/C1tYWQ4YMwZIlSxAUFAQAWLx4McaOHYv/+7//K1fcuLi4MscztG3bFiNGjDBK7nfv3sVLL71klFj/tXv3bpPE1QoLC8PHH3+MlStXQi6XAyge9Dx9+nSEhYVVKObQoUMBAAEBAejYsaNRx+KVZGtrqxvMW1Jubi5sbGwqFLMyx+YNGzYML7/8Mnx8fCCRSNCzZ08AQHx8PBo3blyhmNqxiQEBATh06BA8PDwMyvFBevXqhQULFuC7774DAEgkEuTm5uLjjz/G008/bdTnun37NqKiohAVFQUrKys8/fTTOHnyJEJCQjBnzhyMHz++3DEPHTqEb7/9ttTx2rVrIzk52Rhpl0+ll2A13KVLl0TPnj3F8uXLxeHDh8Xx48f1bobauHGjcHZ2Fp9//rmwt7cXX3zxhRgxYoSwsbER27dvN8IrKG4h0o4VKlnVL1q0yOCuic6dO4tFixbpYmtbRMaMGSPCw8MNii2EEC1bthSOjo7CwcFBNG3aVDfmQXszxDPPPCNatWolEhISdMcOHz4sWrduLZ599llDUxfvvvuu6NSpk7h9+7ZwdHQUFy9eFDExMSIwMFBMmzbN4PhNmzYVMplMPP300+KPP/4QKpWq1DV37twREomk3LEbNmyoeydY0sSJE43SdSCEEK+//rr45ptvjBLrQS5evCi2bt0q8vPzhRBCaDQao8Q9efKk8PX1Fe7u7qJ79+6ie/fuwt3dXdSuXVucOnXK4PiXLl0SH374oRgwYIBuTMuWLVuMEnvw4MGiSZMm4sCBA0Kj0QiNRiPi4uJE06ZNxdChQysU879j8x50M8bYPCGE2LBhg5g3b56u60yI4hY2Q8dEluXu3btGi3X9+nUREhIigoODhUwmE6GhocLd3V00atSozLFL5VVYWCg2bNggIiIihLW1tWjTpo345ptvRFZWlu6a33//vcItaZ6enrpW9ZL/S7Zv3y7q1KljcP7lxYKoksXFxYmAgIBSAwONNUBQCCH27t0revbsKTw9PYWdnZ3o2LGj2LZtm1FiCyHE999/L2rXri3WrFkjFAqF+PXXX8Unn3yiu2+Iffv2CQcHBzF69Gghl8vFO++8I5566imhUCjE4cOHDc592rRpD70ZIjU1VfTp00fXLG5jYyOkUqno06ePUf44KZVKMWLECCGTyYREIhHW1tZCKpWKQYMGlVm8lNeMGTNMNpBx8+bNQi6Xi6ZNm4rhw4eL4cOHi2bNmgm5XC42b95c4bgLFy7U3T777DPh4eEhhg4dKr788ku9cwsXLjQo/7S0NNG9e3fd76n2D/ewYcPEhAkTDIqtlZeXJ7777jsxYcIEMWHCBPH999/rCi9DmHow/t27d8Vzzz1X6uf++eefL9eYM3MoLCwU3bt3N6jb52E+//xzvS7mF198UUgkEuHr6yuOHTtmlOcoKioSP//8s5g4caJ48803jfZzI0Tx2DZXV1fx1ltviaNHj5Z5zd27dys8JGD48OHi+eefF4WFhbo3wNeuXROtWrXSjeWqTJx2X8lCQkIQHByMSZMmwcvLq1Q30H+7uqqqVatWYdq0abh8+TIAwNfXF9OnTzfKtP7Lly/j888/x/Hjx5Gbm4vWrVvjvffeQ7NmzQyOXRkuXLiAs2fPQiKRoHHjxmjYsKFR4yclJeHUqVPIzc1Fq1atjDIVvKioCI0bN8amTZsQHBxshCxLu379Or755hucO3cOABAcHIzRo0fDz8+vwjH/2334IBKJxKApzkOGDEFqaip++OEHBAcH4/jx4wgMDMS2bdswYcIEnD59usKxTS0sLAwvvfQSJkyYAEdHR13uBw8eRL9+/XDjxg2jPM/Fixf1vrfablZjMdVSHKZcUiEgIACrVq1Chw4dEBUVhZdffhlr167FunXrkJSUhO3btxv9OY3p559/xksvvaTrxjW2rKwsvPjiizh8+DBycnLg6+uL5ORkhIWFYcuWLVAoFCZ53geq9BKshrO3txcXL140+fMolUpx/fp1ce3aNb2bseXl5Rml9UPr5MmTDzynHchtqMqY5qntOrAkvr6+Jhtwbum8vLx07+hLNu1fvnzZKAOHly9frhvMK0RxV6Kzs7MICwvTTZKoKFMPxtfGMxVTL8VhyiUV5HK5SEpKEkIUz6AdNWqUEEKI8+fPG23W78qVK0XHjh31lkCZN2+eSbr7TCUmJkYsWbJEzJ49W0RFRQkhjNcdXR4cVF3JunfvjuPHjxv93ZPWxYsX8frrr2P//v16x4UQkEgkRlmErSR7e3ujDk4ODw9HTExMqXf+v/32G4YMGWLwoO0TJ06gZ8+ecHZ2xtWrVzFy5Ei4ubnh999/R1JSElauXGlQ/JUrV+KLL77QrWrcsGFDTJw4EYMHDzYoLlD8PdywYQN2795d5qKSv//+u0HxIyMjMXv2bPzwww9GeQd+4sSJx762efPmBj+fKeXl5ZX5c56RkWHQ4pVan332Gb755hsAxQPQv/rqKyxYsACbNm3C+PHjDfremnowflBQEOrUqYMnn3wSXbt2xZNPPmnUv2+TJ0/G8ePHER0djd69e+uO9+zZE9OmTcP7779vUHyVSoWffvoJO3bsQJs2bUq1SsybN6/CsV1dXXH9+nX4+flh69at+OSTTwAU/y4b42/xN998g6lTp2LcuHH45JNPdDFdXV2xYMEC9O3b1+DnOHz4sK5Fq7CwUO+coX9zvvjiC0ycOBEdO3ZEx44ddcfVajUGDRqEX3/91aD45cWCqJI9++yzGD9+PE6ePIlmzZrB2tpa77yhq66+9tprkMlk2LRpk27WhDG0bt0aO3fuhKurK1q1avXQuEeOHKnw84wYMQI9e/ZEbGwsvL29AQBr167F66+/juXLl1c4rtaECRPw2muvYc6cOXB0dNQdf/rpp/Hqq68aFHvevHn46KOPMGbMGN0vd0xMDEaPHo20tLQKzcIoady4cfj222/RrVu3MrtbDXXo0CHs3LkT27dvR7NmzUr9YyjvH7+WLVtCIpFAPKJX3liFev/+/dGuXTu89957esfnzJmDQ4cOYf369RWO3blzZ6xcuRIzZ84EUJyzRqPBnDlz0K1bN4PyBoq7E7VFxMaNG/Hiiy9i1KhR6Nixo0ErJQPAgAED8N5772H9+vW6vGNjY/G///0PQ4YMMUru0dHR2LNnD+bMmYORI0fC19cXTz75JLp162bwLMKNGzdi7dq1CA0N1fuZb9Kkia7L3hCnTp1C69atARR3d5dk6O9Yv3798Oqrr6JBgwZIT09Hnz59ABQXo8YoGhcvXozvv/8ezz//PD7//HPd8bZt2+J///ufwfHXrFmDIUOGIDw8HNu3b0evXr1w4cIFpKSk4IUXXjA4/hdffAE3Nze9oRZqtRoDBgzAqVOnDI5fbpXeJlXDmXrVVXt7e3H27FkjZKpv2rRpIi8vTwghxMcff2yygclCFDeFN2nSRKSnp4tVq1YJOzs7sWHDBoPjCiGEk5OTbvXckt0HV69eNbj7wN/fX6xYsaLU8eXLlxtlHSJXV1eDBiA/ymuvvfbQW3ldvXr1sW/G4OHhUeZ6OCdOnDB4TZaTJ0+KWrVqid69ewsbGxvx4osviuDgYOHl5VXh1ZhLKjnbpmXLlmLlypVCiOLZYYZ2yZU1GF8ikRhtMP5/XbhwQQwdOlTIZDKj/E0rufhryd/ZY8eOCScnJ4Pjm1JhYaH48ssvxdixY/XWKJs3b574/vvvDY7/oHXnLly4IORyucHxmzVrJr766iu9+BqNRowcOVJMnTrV4PgHDx4ULi4uYv369UKI4gHiL7zwgggODha3b982OH55sSCqZtq2bSv27dtn7jQM9uqrr4oGDRoIe3t7o/aFm3Kap62tbZnjwy5cuGCUsRr+/v4mKXarC7lcXuaip2fPnjXKP4fMzEzxySefiJdeekn06dNHfPjhh+LWrVsGxxWi+Oe9devWYvjw4cLe3l6kpaUJIYpXPG7SpIlRniMpKUls3rxZrF271qizqvLy8sS2bdvE5MmTRVhYmJDL5aJly5Zi3LhxRvndNfVSHFrGXlKhsLBQDBs2TJevKZhyCRQhit9gJyYmCiGKV8XWvuE4c+aM8Pb2Nji+EMVbyDg6Ooo///xTPPfccyIkJEQkJycbJXZ5scusmpk9ezYmTZqEzz77rMwuOWNsojlixAgMGjTI4KZ8rbI2cuzXrx/27duHV155BRKJRHeNoV2Kzz33HGbMmIF169YBKG4ST0pKwnvvvYf+/fsbFDsoKAjr1q3DBx98oHd87dq1RpnBMm3aNEyfPh0//fQT7OzsDI73IHfu3MH58+cBAI0aNYKnp6fBMR81NssYXTfNmjXD2rVrMXXqVL3ja9asQUhIiEGxk5KS4Ofnhw8//LDMc3Xr1jUo/pIlSzBlyhRcv34dv/32m24z0ISEBLzyyisGxZ4wYUKpYwcOHIBEIoFcLkdQUBD69u0LNze3CsV3cXGBq6srBg4ciPfffx+dO3eGq6urQTmX9Nlnn6FPnz44c+YMVCoVFi5ciDNnzmD//v3Ys2ePwfHT09Px8ssvY/fu3ZBIJLh48SICAwMxfPhwuLq6Yu7cuRWKa21tjd9++w0fffSRwTk+yIQJExAZGYmCggIIIXDw4EH8+uuvmDVrFn744QeD47u6uuoW3axduzZOnTqFZs2aITMzE/n5+QbHB4rH1a5cuRL9+/dHcHAw9uzZY7KFLB+F0+4rQWWuuiqVSnX3S/Z/CyMOqu7bty+2bdsGT09PDBgwAIMGDUKLFi0qHK9kzg9jjPxNOc3zt99+w//93/+hZ8+eujFEsbGx2LlzJ9atW2dwn/u9e/fwwgsvIDY2Fv7+/qWKXUPGbgH/7ri+cuVK3YBtY+24/t9/kEVFRcjPz4eNjQ3s7e2RkZFhUO4A8Pfff+vGbHTv3h0AsHPnTvz6669Yv349nn/++QrHrowd402lW7duOHLkCNRqtW6F/AsXLsDKygqNGzfG+fPnIZFIEBMTU6HC8fnnn0dMTAxsbGzQtWtX3c2Yy01cuXIFs2bNMslSHKZcUmHo0KFo2bKlweMHH+a/S6DUrl0b06ZNM8oSKK+++iratm2LCRMmYObMmVi8eDH69u2LqKgotG7dukKDqvv161fm8QMHDiAoKEivGDJ00HZ5sSCqBJW1VgqAR75jevLJJw2Kr3X37l2sX78eq1evxr59+9C4cWMMHDgQr776Kvz9/Y3yHKYUExODEydO6P64apfrN1RCQgLmz5+Ps2fPAihej+Xdd981yrYp2nexL774YpmDqj/++GOD4r/xxhvYsWMHvvrqK71B4WPHjsVTTz2lmwVlLBcvXsSbb76JiRMnIjw83CgxN2/ejM8++wzHjh2DnZ0dmjdvjo8//tjgn3upVIqUlJRSrWXXrl1DSEhIhWY/VtYsvAULFmDfvn1YtmyZroU4KysLI0aMQKdOnTBy5Ei8+uqruHfvHrZt21bh5zlx4gT27NmDPXv2YN++fZDJZOjatStWrVpV4ZhAccHSrVs3dOnSBfXr1zcoVlm8vb2xbds2tGjRQm+dpitXrqB58+bIzc2tcOxPPvkEc+fORY8ePcqcwWboG+B79+5BCAF7e3vk5+fj1KlTiI2NRUhIiFF+pzIyMlBQUABfX1/dJALtmk1TpkypUEvgsGHDHvvaZcuWlTu+IVgQVUOZmZn48ccfdf+UQ0JCMHz4cDg7O5vk+W7cuIFff/0VP/30Ey5evFjmfl5VhXYKrCVSKBTYtm0bOnXqZJL4Hh4e2LBhQ6mu0N27d+Pll1/GnTt3jP6chw8fxqBBg3QL+lU12u6mhQsXYuTIkXqtZGq1GvHx8bCyskJsbGy5Y0ul0kqZhVe7dm1ERUWVav05ffo0evXqhZs3b+LIkSPo1asX0tLSKvw8QggcPXoUu3fvxu7du7Ft2zYIIQz+ezBixAjs3bsXly9f1s1e007vN0ZXtKOjI44cOYIGDRroFUSHDx9GeHg40tPTKxz7YW+GjfEGuFevXujXrx9Gjx6NzMxMNG7cGNbW1khLS8O8efPw5ptvGhTf1MVoVcMxRNXM4cOH0bt3b8jlcrRr1w4AMH/+fHz22WfYvn27bnqpsRQVFeHw4cOIj4/H1atX4eXlVe4YixYtwqhRoyCXyx/ZvWjoOyp/f3906tQJgwYNwosvvmjUsQ5A8T/JjRs36orRJk2a4LnnnoOVlZXBsf38/IwyBuxB8vPzy/z+1apVy2jjBf5LJpPh1q1bJoltDEePHgVQ/M/+5MmTepuV2tjYoEWLFhWe3pyYmGiUHB8lKysLqamppQqiO3fuIDs7G0DxOKD/rjHzuObNm4fo6GjExMQgJycHLVq0QJcuXTBq1Ch07tzZ4Py1Y2Fu3ryJvXv3Ys+ePZg7dy7eeOMN+Pj4GLzStimXVDD19/jIkSOYP38+gOINvL28vHD06FH89ttvmDp1qsEFkY2NDWbNmoXhw4ejdu3aRi9Gqxq2EFUCbf+rQqEoc4BjSYYsAgYU/3IHBQXh+++/1y2up1KpMGLECFy5cgV79+41KL7W7t27sXr1avz222/QaDTo168fBg4ciO7du5d77Y6AgAAcPnwY7u7uJn9HdfToUaxevRpr1qzBnTt30Lt3bwwaNAjPPvuswQvsXbp0CREREbhx44ZurMb58+fh5+eHzZs3G/wOa/PmzVi8eDGWLl1qkm7JHj16wN3dvdSO60OHDkVGRgZ27NhR4dj/HTgvhMDt27fx1Vdfwc/PD//8849BuQP/trg8iCGtLMOGDcPChQtNWpACwJkzZ0otgCeRSPDss89WOObAgQMRFxeHuXPn4oknngBQvObU//73P3To0AE///wz1qxZgy+//BKHDx8ud3xPT08MHjwY3bt3R+fOnXUt0UIIXL9+3eAB51r5+fmIiYnB7t27ER0djSNHjiAkJERXtFbUqVOn0KNHD7Ru3Rq7du3Cc889h9OnTyMjIwOxsbFVumXE3t4e586dQ926dfHyyy+jSZMm+Pjjj3H9+nU0atTIaG9kShaje/bswYULF4xSjALFhdyDFn40dFxkebEgqgRubm64cOECPDw8HvqOQyKRYNeuXQY9l52dHY4ePYrGjRvrHT9z5gzatm1rlF+Q2rVrIyMjA71798bAgQONUkxUNiEEoqOjSxV1P/30U4VjPv300xBCYNWqVboZO+np6Rg0aBCkUik2b95sUM6urq7Iz8+HSqWCvb19qUHVhg5MPnnyJHr37g2lUqkbJH/8+HHI5XJs27YNTZo0qXDs/w6cl0gk8PT0RPfu3TF37lz4+PgYlDsA/Pnnn3qPi4qKcPToUaxYscLgffaysrKgVqtLzcTKyMiATCYzuFC6cuUKXnjhBZw8eVKvG01b4BlSzOXm5mL8+PFYuXKlrvtKJpNh6NChmD9/PhQKBY4dOwageDHN8pJKpUhOTjbZgPMPPvgA0dHROHr0KIKDg3WtFF26dDFaC29WVha++uorvUHbkZGRFfq5rMw3wM2bN8eIESPwwgsvoGnTpti6dSvCwsKQkJCAiIgIJCcnGxRfy1TF6KJFi/Dhhx/itddew3fffYdhw4bh8uXLOHToECIjI/Hpp58aJf/HxYKoEpT8gxEYGIhDhw7pptUam5eXF37++Wf06tVL7/i2bdswZMgQpKSkGPwc33//PV566SW4uLgYHAsoe1pwWSQSSYWnwD7MkSNHMHz4cJw4ccKgP94KhQIHDhwoNfPl+PHj6Nixo0GDMwFgxYoVDz0/dOhQg+IDxX/4Vq1apbdJ58CBA006zd/UVq9ejbVr15YqmMqjT58+ePbZZ/HWW2/pHV+6dCn++usvbNmyxaAcn332WVhZWeGHH35AQEAA4uPjkZGRgXfffRdffvmlUbqecnNzdS2sgYGBcHBwMDgmYJoB5/+N7+npifHjx6Nfv34m2SzZz8+vzNbFiiypUJlvgDds2IBXX30VarUaPXr00G0WO2vWLOzdu9fglldTF6ONGzfGxx9/jFdeeUVv/NbUqVORkZGBr776yuDnKA8WRJXA3d0dW7ZsQfv27R/4x8NYxo4diz/++ANffvklOnToAKB46vfEiRPRv39/LFiwwKjPp20yrVOnToVjPG4/vTH+gGjduHEDq1evxurVq3Hq1CmEhYVh4MCBGD16dIVjurm5YdOmTbqvu1ZsbCyeffZZo0wtN6W9e/eiQ4cOpfYxU6lU2L9/P7p06WKU5/lv64epGWO2kJubG2JjYxEcHKx3/Ny5c+jYsaNBA2+B4gHtu3btQvPmzeHs7IyDBw+iUaNG2LVrF959912D34mbgikHnJd0/Phx7NmzB9HR0di3bx9sbGx0/5iNMb3f2EsqVOYbYABITk7G7du30aJFC11L7MGDB+Hk5FSqp6C8TF2M2tvb4+zZs6hXrx5q1aqFqKgotGjRAhcvXkRoaKjBv1flVkkLQNZoI0eOFLa2tsLf319IpVJRt25dERAQUObNUEqlUowdO1bY2NgIqVQqpFKpsLW1FePGjRMFBQVGeDVCqNVqMX36dOHk5KR7DmdnZzFjxgyhVquN8hymsnTpUtGlSxchlUpFkyZNxGeffWa0rSMGDx4smjRpIg4cOKDb7T4uLk40bdpUDB06tEIxs7Ky9O4/7GYoqVQqUlJSSh1PS0szyhYMK1asEE2bNhW2trbC1tZWNGvWTLdFhank5+eLd955RzRs2NCgOPb29g/cFsTOzs6g2EII4eLiolvRODAwUOzatUsIUbx1hzHim0LXrl1F165dhUQiER06dNA97tq1q+jVq5cYNWqUUVfE1jp27JhRtwaRSCQiNTW11PGrV68Ke3v7csdzc3MTBw4ceGhsS3Hs2DGxcOFC8cILLwgPDw/h6+srXnnlFfHtt9+K8+fPGxw/ICBAt3NAmzZtxNKlS4UQQmzbtk24uroaHL+8OMusEnz33Xfo168fLl26hLFjx2LkyJF6G4sak42NDRYuXIhZs2bpFuqqX7++UXek//DDD/Hjjz/i888/11uvZtq0aSgoKKj0ft/y+OSTT/DKK69g0aJFBi0mWZZFixZh6NChCAsL043vKSoqQt++fSvcMufq6qp79+ri4lJmq4ow0qKb2jj/lZ6ebtCClYDpN74Fir9W/12MNCcnB3Z2dgavhdOuXTt89913WLx4sd7xpUuXok2bNgbFBoCmTZvi+PHjCAgIQPv27TFnzhzY2Njgu+++Q2BgoMHxTWH37t0ATD/gXNyfzh8dHa2bzZadnY3mzZsbtL6UtoVLIpHgo48+KrOFqyJjqvr3748nn3xSt7l227ZtHzjL1NBJIqbWokULtGjRQje79/jx45g/fz4iIyOh0WgM/pvTvXt3/PXXX2jVqhWGDRuG8ePHY8OGDTh8+PADF3A0JXaZVbJhw4Zh0aJFJiuIKoOvry+WLl1aahuNP//8E2+99RZu3rxppsweTQiBmJgYfPvtt7hy5QrWr1+P2rVr4+eff0ZAQIBR1vi5dOmS3sKMhuxqvWfPHnTs2BEymQwrVqyAn59fqT+uGo0GSUlJFR5DpP3D8+eff6J37956A+TVajVOnDiBRo0aYevWrRV+HQEBAZg+fXqpLTpWrFiBadOmGWV68vLly/UKIm1zf/v27Q0e7xAbG4uePXviiSeeQI8ePQAUr4J96NAhbN++3eAxPtu2bUNeXp7ujdMzzzyDCxcuwN3dHWvXrtWtvF0Tubq6Ijc3Fy1atNB1lXXu3NngMYzarvo9e/YgLCys1JIK/v7++N///leh6eVbt27VvQGeMWPGA//ev/POOxVLvpI8qhjVTvmvKI1GA41Go+umX7t2LWJjY9GgQQOMHj261MQRU2NBROUml8tx4sSJUv3J58+fR8uWLXHv3j0zZfZov/32GwYPHoyBAwfi559/xpkzZxAYGIivvvoKW7ZsMWhw7IMGhxtrzyhTbR+hXTl2xYoVePnll/UGUGv/MYwcOdKg/YXkcjlOnTpVqji8ePEimjVrhoKCggrHLqmgoAAnTpxAamqqbvsRLUP3wTt27Bi++OILvVWwJ0+ebLL1WDIyMkq1etVEmzdvRufOnU3WAmXKFi5LfwNsqmK0pAf9zhq63ESFVHonHVm8du3aibfffrvU8TFjxoj27dubIaPH17JlS7FixQohhP7u0EeOHBFeXl4Gxe7atatwcnISCoVCtG7dWrRu3Vo4ODgIZ2dn0b59e+Hi4iJcXV3F6dOnKxTf2GMd/mvixIkiLy9P9zgxMVHMnz9fbN261eDYTZo0EZ9++mmp4zNnzhRNmzY1OL4QQvzzzz/C09NTSKVSIZFI9G7GGGtC1VNmZqZIT08vdTw9Pd0oY/Ms2aZNm0z6Nfjnn3+Eh4dHqd9Xc/3OsoWIym3Pnj2IiIhA3bp1ERYWBgCIi4tDUlIS/vnnH6NMETYVe3t7nDlzBv7+/qX2LQoJCTGopcJUe0ZV1myep556Cv379zfJNgCm3vgWABo0aIBevXph6tSpFVox/XEVFBSUWkDO1As2kumYekkFerDK+p19bJVeglG1cOPGDfHhhx+Kfv36iX79+okPP/xQ3Lx509xpPVJAQICIiooSQui3EK1YsUIEBwcbFNvX17fM1p9Tp04JX19fIYQQCQkJwt3dvVxxK2s2j7u7uzh16pQQQojvv/9eNG/eXKjVarFu3TrRuHFjg+MnJCSIgQMH6lrPBg4cqJthYgyOjo7i0qVLRotXUl5enoiMjNS1QP33RpbL1dVVnDlzptTxs2fPCjc3NzNkVHOY8ne2IjjLjCrE3d0dzz33HEJDQ3X9vtpl/w0dq2FKI0eOxDvvvIOffvoJEokEt27dQlxcHP73v//ho48+Mii2qfaMqqzZPPn5+bqxDtu3b0e/fv0glUoRGhqKa9euGRRbu0nk9OnTTbYVwosvvojo6GiTxJ84cSJ2796Nb775BoMHD8aSJUtw8+ZNfPvtt/j888+N/nxUeZRKZZkb0BYVFVXp8ZDVgSl/ZyuCXWZUblu3bsWQIUOQnp5eaqduY0z/NiUhBD777DPMmjVLt42Jra0t/ve//+k2d6woU+8ZZWqm3AbA1DuWA8UF3UsvvQRPT080a9as1AwVQzYGrlu3LlauXImuXbvCyckJR44cQVBQEH7++Wf8+uuv7FaxYN26dUPTpk1LLakQGRmJEydOYN++fWbKrPoz5e9sRbAgonKrcv2+FVBYWIhLly4hNzcXISEhRtnGwNR7RpmaqbcBAEy7SeSPP/6I0aNHQy6Xw93dXW92lqEbAzs4OODMmTOoW7cu6tSpg99//x3t2rVDYmIimjVrZvC2LGQ+pl5SgR7MlL+zFcGCiMrNyckJR48erTLNnFWNqfaMqgym3AYAMN0mkQDg7e2NsWPH4v333y+1mayhmjdvjsWLF+PJJ59Ez5490bJlS3z55ZdYtGgR5syZY5SCjsynspdUoGKm/J2tCBZEVG6vv/46OnbsaNDu4VSzVMaO5W5ubjh06JBJCvX58+fDysoKY8eOxY4dO/Dss89CCIGioiLMmzevyi+wR1QVmfJ3tiJYEFG5VbV+X6r6TL1JJACMHz8enp6e+OCDD4we+7+uXbuGhIQEBAUFoXnz5iZ/PqocXFKhclXm7+zjYEFE5VbV+n2p6jP1juVAcSG+cuVKtGjRAs2bNy9VqM+bN69CcYuKitC7d28sXbqUXSjVUH5+PiZNmoR169aVubt6VZ4kYulM9TtbUSyIqNyqWr8vWR7tJpGrVq0yyiaRwL97U5VFIpFg165dFY7t6emJ/fv3syCqhiIjI7F7927MnDmzzCUVBg4caO4Uqy1T/s5WBAsiKreq1u9LVZ8w8SaRpjZ+/HjY2tpyzaFqiEsqkBYXZqRyGzp0KNauXVtl+n2p6nNzc9PbJHLkyJFG3yTSlFQqFX766Sfs2LEDbdq0gUKh0Dtf2U37ZDwZGRkIDAwEUDxeKCMjAwDQqVMng7arIcvDgojKTa1WY86cOdi2bVuV6Pelqu+XX34x6Y7lpnbq1Cm0bt0aAHDhwgW9czV9N3pLFxgYiMTERNStWxeNGzfGunXr0K5dO/z9998WU7CTcbDLjMqtqvX7EhFVFJdUIC0WRERERPdxSYWaiwUREdFjOHz4MNatW4ekpKRSa9X8/vvvZsqKDMElFagkzpkmInqENWvWoEOHDjh79iz++OMPFBUV4fTp09i1axecnZ3NnR5VkLW1NU6cOGHuNKiKYEFERPQIn332GebPn4+///4bNjY2WLhwIc6dO4eXX34ZdevWNXd6ZIBBgwbhxx9/NHcaVAWwy4yI6BEUCgVOnz4Nf39/uLu7Izo6Gs2aNcPZs2fRvXt33L5929wpUgW9/fbbWLlyJRo0aMAlFWo4TrsnInoEV1dX5OTkAABq166NU6dOoVmzZsjMzER+fr6ZsyNDcEkF0mJBRET0CF26dEFUVBSaNWuGl156Ce+88w527dqFqKgo9OjRw9zpkQF2795t7hSoimCXGRHRI2RkZKCgoAC+vr7QaDSYM2eObm+zKVOmwNXV1dwpEpGBWBAREVGNxiUVCGCXGRHRY9FoNLh06RJSU1Oh0Wj0znXp0sVMWZGh1qxZgyFDhiA8PBzbt29Hr169cOHCBaSkpOCFF14wd3pUidhCRET0CAcOHMCrr76Ka9eu4b9/MiUSCdRqtZkyI0M1b94cb7zxBiIjI+Ho6Ijjx48jICAAb7zxBnx8fDB9+nRzp0iVhAUREdEjtGzZEg0bNsT06dPh4+NTavYRF2e0XFxSgbTYZUZE9AgXL17Ehg0bEBQUZO5UyMi4pAJpcaVqIqJHaN++PS5dumTuNMgEtEsqANAtqTBy5Ei88sorXFKhhmGXGRFRGUrucXX58mVMmTIFEydORLNmzWBtba13LXdFt1xcUoG0WBAREZVBKpVCIpGUGkStpT3HQdVE1QPHEBERlSExMdHcKVAl4ZIKBLCFiIjokWbNmgUvLy+8/vrresd/+ukn3LlzB++9956ZMiNDcUkF0uKgaiKiR/j222/RuHHjUsebNGmCpUuXmiEjMpbRo0ejbdu2OHXqFDIyMnD37l3dLSMjw9zpUSVilxkR0SMkJyfDx8en1HFPT0+uU2PhuKQCabGFiIjoEfz8/BAbG1vqeGxsLHx9fc2QERkLl1QgLbYQERE9wsiRIzFu3DgUFRWhe/fuAICdO3di0qRJePfdd82cHZVXySUV3n77bbz77rtITk7mkgo1HAdVExE9ghAC77//PhYtWqTbDV0ul+O9997D1KlTzZwdlReXVKCysCAiInpMubm5OHv2LOzs7NCgQQPY2tqaOyWqgGvXrj32tfXq1TNhJlSVsCAiIqIai0sqkBYHVRMRUY3FJRVIiwURERHVWFxSgbRYEBERUY3FJRVIi9PuiYioxuKSCqTFQdVERFRjcUkF0mJBRERENR6XVCAWRERERFTjcVA1ERER1XgsiIiIiKjGY0FERERENR4LIiIiIqrxWBAREZWTRCLBxo0bzZ0GERkRCyIiqpLu3LmDN998E3Xr1oWtrS28vb0RHh5e5qrCRESG4krVRFQl9e/fH4WFhVixYgUCAwORkpKCnTt3Ij093dypEVE1xBYiIqpyMjMzsW/fPsyePRvdunVDvXr10K5dO0yePBnPPfccAGDevHlo1qwZFAoF/Pz88NZbbyE3N1cXY/ny5XBxccGmTZvQqFEj2Nvb48UXX0R+fj5WrFgBf39/uLq6YuzYsVCr1brP8/f3x8yZM/HKK69AoVCgdu3aWLJkyUPzvX79Ol5++WW4uLjAzc0Nffv2xdWrV3Xno6Oj0a5dOygUCri4uKBjx464du2acb9oRGQQFkREVOU4ODjAwcEBGzduhFKpLPMaqVSKRYsW4fTp01ixYgV27dqFSZMm6V2Tn5+PRYsWYc2aNdi6dSuio6PxwgsvYMuWLdiyZQt+/vlnfPvtt9iwYYPe533xxRdo0aIFjh49ivfffx/vvPMOoqKiysyjqKgI4eHhcHR0xL59+xAbGwsHBwf07t0bhYWFUKlUeP755/Hkk0/ixIkTiIuLw6hRoyCRSIzzxSIi4xBERFXQhg0bhKurq5DL5aJDhw5i8uTJ4vjx4w+8fv369cLd3V33eNmyZQKAuHTpku7YG2+8Iezt7UVOTo7uWHh4uHjjjTd0j+vVqyd69+6tF/v//u//RJ8+fXSPAYg//vhDCCHEzz//LBo1aiQ0Go3uvFKpFHZ2dmLbtm0iPT1dABDR0dHl/yIQUaVhCxERVUn9+/fHrVu38Ndff6F3796Ijo5G69atsXz5cgDAjh070KNHD9SuXRuOjo4YPHgw0tPTkZ+fr4thb2+P+vXr6x57eXnB398fDg4OesdSU1P1njssLKzU47Nnz5aZ5/Hjx3Hp0iU4OjrqWrbc3NxQUFCAy5cvw83NDa+99hrCw8Px7LPPYuHChbh9+7ahXx4iMjIWRERUZcnlcjz11FP46KOPsH//frz22mv4+OOPcfXqVTzzzDNo3rw5fvvtNyQkJOjG+Wh3LAcAa2trvXgSiaTMYxqNpsI55ubmok2bNjh27Jje7cKFC3j11VcBAMuWLUNcXBw6dOiAtWvXomHDhjhw4ECFn5OIjI8FERFZjJCQEOTl5SEhIQEajQZz585FaGgoGjZsiFu3bhntef5brBw4cADBwcFlXtu6dWtcvHgRtWrVQlBQkN7N2dlZd12rVq0wefJk7N+/H02bNsXq1auNli8RGY4FERFVOenp6ejevTt++eUXnDhxAomJiVi/fj3mzJmDvn37IigoCEVFRVi8eDGuXLmCn3/+GUuXLjXa88fGxmLOnDm4cOEClixZgvXr1+Odd94p89qBAwfCw8MDffv2xb59+5CYmIjo6GiMHTsWN27cQGJiIiZPnoy4uDhcu3YN27dvx8WLFx9YYBGReXAdIiKqchwcHNC+fXvMnz8fly9fRlFREfz8/DBy5Eh88MEHsLOzw7x58zB79mxMnjwZXbp0waxZszBkyBCjPP+7776Lw4cPY/r06XBycsK8efMQHh5e5rX29vbYu3cv3nvvPfTr1w85OTmoXbs2evToAScnJ9y7dw/nzp3DihUrkJ6eDh8fH0RGRuKNN94wSq5EZBwSIYQwdxJERFWFv78/xo0bh3Hjxpk7FSKqROwyIyIiohqPBRERERHVeOwyIyIiohqPLURERERU47EgIiIiohqPBRERERHVeCyIiIiIqMZjQUREREQ1HgsiIiIiqvFYEBEREVGNx4KIiIiIarz/B7PsGpaIbCAWAAAAAElFTkSuQmCC\n"
                },
                "metadata": {}
              }
            ]
          }
        },
        "cf8dc944e2cf419fbcdcdf2f37c8e007": {
          "model_module": "@jupyter-widgets/base",
          "model_name": "LayoutModel",
          "model_module_version": "1.2.0",
          "state": {
            "_model_module": "@jupyter-widgets/base",
            "_model_module_version": "1.2.0",
            "_model_name": "LayoutModel",
            "_view_count": null,
            "_view_module": "@jupyter-widgets/base",
            "_view_module_version": "1.2.0",
            "_view_name": "LayoutView",
            "align_content": null,
            "align_items": null,
            "align_self": null,
            "border": null,
            "bottom": null,
            "display": null,
            "flex": null,
            "flex_flow": null,
            "grid_area": null,
            "grid_auto_columns": null,
            "grid_auto_flow": null,
            "grid_auto_rows": null,
            "grid_column": null,
            "grid_gap": null,
            "grid_row": null,
            "grid_template_areas": null,
            "grid_template_columns": null,
            "grid_template_rows": null,
            "height": null,
            "justify_content": null,
            "justify_items": null,
            "left": null,
            "margin": null,
            "max_height": null,
            "max_width": null,
            "min_height": null,
            "min_width": null,
            "object_fit": null,
            "object_position": null,
            "order": null,
            "overflow": null,
            "overflow_x": null,
            "overflow_y": null,
            "padding": null,
            "right": null,
            "top": null,
            "visibility": null,
            "width": null
          }
        },
        "da904537533d44c0a3e8b89b7c1fb429": {
          "model_module": "@jupyter-widgets/base",
          "model_name": "LayoutModel",
          "model_module_version": "1.2.0",
          "state": {
            "_model_module": "@jupyter-widgets/base",
            "_model_module_version": "1.2.0",
            "_model_name": "LayoutModel",
            "_view_count": null,
            "_view_module": "@jupyter-widgets/base",
            "_view_module_version": "1.2.0",
            "_view_name": "LayoutView",
            "align_content": null,
            "align_items": null,
            "align_self": null,
            "border": null,
            "bottom": null,
            "display": null,
            "flex": null,
            "flex_flow": null,
            "grid_area": null,
            "grid_auto_columns": null,
            "grid_auto_flow": null,
            "grid_auto_rows": null,
            "grid_column": null,
            "grid_gap": null,
            "grid_row": null,
            "grid_template_areas": null,
            "grid_template_columns": null,
            "grid_template_rows": null,
            "height": null,
            "justify_content": null,
            "justify_items": null,
            "left": null,
            "margin": null,
            "max_height": null,
            "max_width": null,
            "min_height": null,
            "min_width": null,
            "object_fit": null,
            "object_position": null,
            "order": null,
            "overflow": null,
            "overflow_x": null,
            "overflow_y": null,
            "padding": null,
            "right": null,
            "top": null,
            "visibility": null,
            "width": null
          }
        },
        "0d263b69079e49dd8136157649b7dcf1": {
          "model_module": "@jupyter-widgets/controls",
          "model_name": "SliderStyleModel",
          "model_module_version": "1.5.0",
          "state": {
            "_model_module": "@jupyter-widgets/controls",
            "_model_module_version": "1.5.0",
            "_model_name": "SliderStyleModel",
            "_view_count": null,
            "_view_module": "@jupyter-widgets/base",
            "_view_module_version": "1.2.0",
            "_view_name": "StyleView",
            "description_width": "",
            "handle_color": null
          }
        },
        "8fd07d20ba8d4d4781a51a2d4ce4e49f": {
          "model_module": "@jupyter-widgets/base",
          "model_name": "LayoutModel",
          "model_module_version": "1.2.0",
          "state": {
            "_model_module": "@jupyter-widgets/base",
            "_model_module_version": "1.2.0",
            "_model_name": "LayoutModel",
            "_view_count": null,
            "_view_module": "@jupyter-widgets/base",
            "_view_module_version": "1.2.0",
            "_view_name": "LayoutView",
            "align_content": null,
            "align_items": null,
            "align_self": null,
            "border": null,
            "bottom": null,
            "display": null,
            "flex": null,
            "flex_flow": null,
            "grid_area": null,
            "grid_auto_columns": null,
            "grid_auto_flow": null,
            "grid_auto_rows": null,
            "grid_column": null,
            "grid_gap": null,
            "grid_row": null,
            "grid_template_areas": null,
            "grid_template_columns": null,
            "grid_template_rows": null,
            "height": null,
            "justify_content": null,
            "justify_items": null,
            "left": null,
            "margin": null,
            "max_height": null,
            "max_width": null,
            "min_height": null,
            "min_width": null,
            "object_fit": null,
            "object_position": null,
            "order": null,
            "overflow": null,
            "overflow_x": null,
            "overflow_y": null,
            "padding": null,
            "right": null,
            "top": null,
            "visibility": null,
            "width": null
          }
        }
      }
    }
  },
  "nbformat": 4,
  "nbformat_minor": 0
}